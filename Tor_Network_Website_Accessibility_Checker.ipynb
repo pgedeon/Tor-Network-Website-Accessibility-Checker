{
  "nbformat": 4,
  "nbformat_minor": 0,
  "metadata": {
    "colab": {
      "provenance": []
    },
    "kernelspec": {
      "name": "python3",
      "display_name": "Python 3"
    },
    "language_info": {
      "name": "python"
    }
  },
  "cells": [
    {
      "cell_type": "markdown",
      "source": [
        "# License\n",
        "Creative Commons Attribution-NonCommercial 4.0 International Public License\n",
        "\n",
        "By exercising the Licensed Rights (defined below), You accept and agree to be bound by the terms and conditions of this Creative Commons Attribution-NonCommercial 4.0 International Public License (\"Public License\"). To the extent this Public License may be interpreted as a contract, You are granted the Licensed Rights in consideration of Your acceptance of these terms and conditions, and the Licensor grants You such rights in consideration of benefits the Licensor receives from making the Licensed Material available under these terms and conditions.\n",
        "\n",
        "...\n",
        "\n",
        "You are free to:\n",
        "- Share — copy and redistribute the material in any medium or format\n",
        "- Adapt — remix, transform, and build upon the material\n",
        "\n",
        "The licensor cannot revoke these freedoms as long as you follow the license terms.\n",
        "\n",
        "Under the following terms:\n",
        "- Attribution — You must give appropriate credit, provide a link to the license, and indicate if changes were made. You may do so in any reasonable manner, but not in any way that suggests the licensor endorses you or your use.\n",
        "- NonCommercial — You may not use the material for commercial purposes.\n",
        "\n",
        "...\n",
        "\n",
        "## Full License Text: https://creativecommons.org/licenses/by-nc/4.0/legalcode"
      ],
      "metadata": {
        "id": "kBTVhKU7V2AN"
      }
    },
    {
      "cell_type": "code",
      "execution_count": 4,
      "metadata": {
        "colab": {
          "base_uri": "https://localhost:8080/"
        },
        "id": "vgJKdcWx0_xU",
        "outputId": "6db737bb-574e-4535-9b8a-b0b674fbc8d9"
      },
      "outputs": [
        {
          "output_type": "stream",
          "name": "stdout",
          "text": [
            "Reading package lists... Done\n",
            "Building dependency tree... Done\n",
            "Reading state information... Done\n",
            "tor is already the newest version (0.4.6.10-1).\n",
            "0 upgraded, 0 newly installed, 0 to remove and 45 not upgraded.\n",
            "Requirement already satisfied: stem in /usr/local/lib/python3.10/dist-packages (1.8.2)\n",
            "Requirement already satisfied: requests[socks] in /usr/local/lib/python3.10/dist-packages (2.31.0)\n",
            "Requirement already satisfied: pyngrok in /usr/local/lib/python3.10/dist-packages (7.2.0)\n",
            "Requirement already satisfied: charset-normalizer<4,>=2 in /usr/local/lib/python3.10/dist-packages (from requests[socks]) (3.3.2)\n",
            "Requirement already satisfied: idna<4,>=2.5 in /usr/local/lib/python3.10/dist-packages (from requests[socks]) (3.7)\n",
            "Requirement already satisfied: urllib3<3,>=1.21.1 in /usr/local/lib/python3.10/dist-packages (from requests[socks]) (2.0.7)\n",
            "Requirement already satisfied: certifi>=2017.4.17 in /usr/local/lib/python3.10/dist-packages (from requests[socks]) (2024.7.4)\n",
            "Requirement already satisfied: PySocks!=1.5.7,>=1.5.6 in /usr/local/lib/python3.10/dist-packages (from requests[socks]) (1.7.1)\n",
            "Requirement already satisfied: PyYAML>=5.1 in /usr/local/lib/python3.10/dist-packages (from pyngrok) (6.0.1)\n"
          ]
        }
      ],
      "source": [
        "# Install Tor and necessary packages\n",
        "!apt-get install tor -y\n",
        "!pip install stem requests[socks] pyngrok"
      ]
    },
    {
      "cell_type": "code",
      "source": [
        "import os\n",
        "import time\n",
        "import requests\n",
        "from stem import Signal\n",
        "from stem.control import Controller\n",
        "from stem.process import launch_tor_with_config\n",
        "from pyngrok import ngrok\n",
        "import pandas as pd\n",
        "import socket\n",
        "\n",
        "# Settings\n",
        "settings = {\n",
        "    \"timeout\": 35,\n",
        "    \"control_domain\": \"google.com\",\n",
        "    \"test_domain\": \"apple.com\",\n",
        "    \"max_retries_per_country\": 5,\n",
        "    \"ngrok_authtoken\": \"your_ngrok_authtoken\",\n",
        "    \"country_codes\": [\n",
        "        'US', 'CA', 'DE', 'FR', 'GB', 'AU', 'JP', 'KR', 'RU', 'BR', 'ES', 'IT', 'CH', 'SE', 'FI', 'NO', 'DK',\n",
        "        'BE', 'AT', 'PL', 'CZ', 'RO', 'UA', 'HU', 'GR', 'BG', 'TR', 'IL', 'ZA', 'SG', 'HK', 'MY', 'ID', 'PH', 'VN', 'TH'\n",
        "    ]\n",
        "}\n",
        "\n",
        "# Ngrok authtoken\n",
        "ngrok_authtoken = settings[\"ngrok_authtoken\"]\n",
        "\n",
        "# Authenticate Ngrok\n",
        "!ngrok authtoken $ngrok_authtoken\n",
        "\n",
        "# Function to terminate any existing Tor processes\n",
        "def kill_existing_tor():\n",
        "    os.system(\"pkill -f tor\")\n",
        "\n",
        "# Kill existing Tor processes\n",
        "kill_existing_tor()\n",
        "\n",
        "# Generate a hashed password for Tor\n",
        "password = 'my_password'  # You can set your desired password here\n",
        "hashed_password = os.popen(f'tor --hash-password {password}').read().strip().split('\\n')[-1]\n",
        "print(f\"Hashed Password: {hashed_password}\")\n",
        "\n",
        "# Function to launch Tor with specific ExitNodes\n",
        "def launch_tor_with_exit_nodes(exit_node_country):\n",
        "    tor_config = {\n",
        "        'ControlPort': '9051',\n",
        "        'HashedControlPassword': hashed_password,\n",
        "        'ExitNodes': f'{{{exit_node_country}}}',\n",
        "        'StrictNodes': '1',\n",
        "        'Log': 'NOTICE stdout'\n",
        "    }\n",
        "    return launch_tor_with_config(config=tor_config, timeout=300, init_msg_handler=lambda line: print(line) if 'Bootstrapped' in line else None)\n",
        "\n",
        "# Function to resolve a domain name to an IP address\n",
        "def resolve_domain_to_ip(domain):\n",
        "    return socket.gethostbyname(domain)\n",
        "\n",
        "# Function to get a new Tor identity\n",
        "def renew_tor_ip(controller):\n",
        "    controller.signal(Signal.NEWNYM)\n",
        "    time.sleep(controller.get_newnym_wait())\n",
        "\n",
        "# Function to check if a website is accessible\n",
        "def check_website(url, retries=3):\n",
        "    session = requests.session()\n",
        "    session.proxies = {\n",
        "        'http': 'socks5h://localhost:9050',\n",
        "        'https': 'socks5h://localhost:9050'\n",
        "    }\n",
        "    for _ in range(retries):\n",
        "        try:\n",
        "            response = session.get(url, timeout=settings[\"timeout\"])\n",
        "            return response.status_code == 200\n",
        "        except requests.RequestException as e:\n",
        "            if \"timed out\" in str(e):\n",
        "                continue\n",
        "            return False\n",
        "    return False\n",
        "\n",
        "# The websites to check\n",
        "websites = [f'http://{settings[\"control_domain\"]}', f'http://{settings[\"test_domain\"]}']\n",
        "\n",
        "# Log the results\n",
        "results = []\n",
        "\n",
        "# Expose the control port via Ngrok\n",
        "ngrok_tunnel = ngrok.connect(9051, \"tcp\")\n",
        "print(f\"Ngrok Tunnel: {ngrok_tunnel.public_url}\")\n",
        "\n",
        "# Resolve the ngrok host to an IP address\n",
        "ngrok_host, ngrok_port = ngrok_tunnel.public_url[6:].split(\":\")\n",
        "ngrok_ip = resolve_domain_to_ip(ngrok_host)\n",
        "ngrok_port = int(ngrok_port)\n",
        "\n",
        "# Iterate through the list of countries\n",
        "for country_code in settings[\"country_codes\"]:\n",
        "    retry_count = 0\n",
        "    success = False\n",
        "\n",
        "    while retry_count < settings[\"max_retries_per_country\"] and not success:\n",
        "        try:\n",
        "            # Launch Tor with the specified exit node country\n",
        "            tor_process = launch_tor_with_exit_nodes(country_code)\n",
        "            time.sleep(30)  # Wait for Tor to start\n",
        "\n",
        "            # Connect to Tor controller using the Ngrok tunnel\n",
        "            with Controller.from_port(address=ngrok_ip, port=ngrok_port) as controller:\n",
        "                controller.authenticate(password=password)\n",
        "\n",
        "                # Check control domain accessibility first\n",
        "                control_domain_accessible = check_website(websites[0])\n",
        "\n",
        "                if control_domain_accessible:\n",
        "                    # Check test domain accessibility\n",
        "                    test_domain_accessible = check_website(websites[1])\n",
        "\n",
        "                    # Log results\n",
        "                    results.append({\n",
        "                        'Country': country_code,\n",
        "                        'Control Domain Accessible': control_domain_accessible,\n",
        "                        'Test Domain Accessible': test_domain_accessible\n",
        "                    })\n",
        "                    print(f\"Country: {country_code}, {settings['control_domain']} Accessible: {control_domain_accessible}, {settings['test_domain']} Accessible: {test_domain_accessible}\")\n",
        "                    success = True\n",
        "                else:\n",
        "                    print(f\"Country: {country_code}, {settings['control_domain']} not accessible. Retrying with a new endpoint.\")\n",
        "                    retry_count += 1\n",
        "\n",
        "            # Terminate the current Tor process\n",
        "            tor_process.terminate()\n",
        "            time.sleep(5)  # Allow time for termination before restarting\n",
        "\n",
        "        except Exception as e:\n",
        "            error_message = str(e)\n",
        "            if \"reached a 300 second timeout without success\" in error_message:\n",
        "                print(f\"Country: {country_code}, Error: Timeout occurred. Retrying with a new endpoint.\")\n",
        "            else:\n",
        "                print(f\"Country: {country_code}, Error: {error_message}\")\n",
        "                results.append({'Country': country_code, 'Control Domain Accessible': False, 'Test Domain Accessible': False, 'Error': error_message})\n",
        "            retry_count += 1\n",
        "\n",
        "# Print the results\n",
        "df = pd.DataFrame(results)\n",
        "df.to_csv('website_accessibility_results.csv', index=False)\n",
        "df\n"
      ],
      "metadata": {
        "colab": {
          "base_uri": "https://localhost:8080/",
          "height": 1000
        },
        "id": "8_AmuIAP1Hx-",
        "outputId": "c2cb68e1-d1d8-4260-e7af-9f649d2f139a"
      },
      "execution_count": 9,
      "outputs": [
        {
          "output_type": "stream",
          "name": "stdout",
          "text": [
            "Authtoken saved to configuration file: /root/.config/ngrok/ngrok.yml\n",
            "Hashed Password: 16:7E56FFDCAC812E8260B37F41B7531A2E53A03772BAD66FDE2F63046117\n",
            "Ngrok Tunnel: tcp://0.tcp.ngrok.io:15826\n",
            "Jul 23 09:40:26.000 [notice] Bootstrapped 0% (starting): Starting\n",
            "Jul 23 09:40:26.000 [notice] Bootstrapped 5% (conn): Connecting to a relay\n",
            "Jul 23 09:40:26.000 [notice] Bootstrapped 10% (conn_done): Connected to a relay\n",
            "Jul 23 09:40:27.000 [notice] Bootstrapped 14% (handshake): Handshaking with a relay\n",
            "Jul 23 09:40:27.000 [notice] Bootstrapped 15% (handshake_done): Handshake with a relay done\n",
            "Jul 23 09:40:27.000 [notice] Bootstrapped 75% (enough_dirinfo): Loaded enough directory info to build circuits\n",
            "Jul 23 09:40:27.000 [notice] Bootstrapped 85% (ap_conn_done): Connected to a relay to build circuits\n",
            "Jul 23 09:40:28.000 [notice] Bootstrapped 89% (ap_handshake): Finishing handshake with a relay to build circuits\n",
            "Jul 23 09:40:28.000 [notice] Bootstrapped 90% (ap_handshake_done): Handshake finished with a relay to build circuits\n",
            "Jul 23 09:40:28.000 [notice] Bootstrapped 95% (circuit_create): Establishing a Tor circuit\n",
            "Jul 23 09:40:29.000 [notice] Bootstrapped 100% (done): Done\n"
          ]
        },
        {
          "output_type": "stream",
          "name": "stderr",
          "text": [
            "DEBUG:stem:GETCONF __owningcontrollerprocess (runtime: 0.3486)\n",
            "INFO:stem:Error while receiving a control message (SocketClosed): empty socket content\n",
            "INFO:stem:Error while receiving a control message (SocketClosed): empty socket content\n",
            "INFO:stem:Error while receiving a control message (SocketClosed): empty socket content\n",
            "INFO:stem:Error while receiving a control message (SocketClosed): empty socket content\n",
            "INFO:stem:Error while receiving a control message (SocketClosed): empty socket content\n",
            "INFO:stem:Error while receiving a control message (SocketClosed): empty socket content\n",
            "INFO:stem:Error while receiving a control message (SocketClosed): empty socket content\n"
          ]
        },
        {
          "output_type": "stream",
          "name": "stdout",
          "text": [
            "Country: US, google.com Accessible: True, apple.com Accessible: True\n",
            "Jul 23 09:41:11.000 [notice] Bootstrapped 0% (starting): Starting\n",
            "Jul 23 09:41:11.000 [notice] Bootstrapped 5% (conn): Connecting to a relay\n",
            "Jul 23 09:41:13.000 [notice] Bootstrapped 10% (conn_done): Connected to a relay\n",
            "Jul 23 09:41:13.000 [notice] Bootstrapped 14% (handshake): Handshaking with a relay\n",
            "Jul 23 09:41:13.000 [notice] Bootstrapped 15% (handshake_done): Handshake with a relay done\n",
            "Jul 23 09:41:13.000 [notice] Bootstrapped 75% (enough_dirinfo): Loaded enough directory info to build circuits\n",
            "Jul 23 09:41:13.000 [notice] Bootstrapped 90% (ap_handshake_done): Handshake finished with a relay to build circuits\n",
            "Jul 23 09:41:13.000 [notice] Bootstrapped 95% (circuit_create): Establishing a Tor circuit\n",
            "Jul 23 09:41:14.000 [notice] Bootstrapped 100% (done): Done\n"
          ]
        },
        {
          "output_type": "stream",
          "name": "stderr",
          "text": [
            "DEBUG:stem:GETCONF __owningcontrollerprocess (runtime: 0.3484)\n",
            "INFO:stem:Error while receiving a control message (SocketClosed): received exception \"read of closed file\"\n"
          ]
        },
        {
          "output_type": "stream",
          "name": "stdout",
          "text": [
            "Country: CA, google.com not accessible. Retrying with a new endpoint.\n",
            "Jul 23 09:41:53.000 [notice] Bootstrapped 0% (starting): Starting\n",
            "Jul 23 09:41:54.000 [notice] Bootstrapped 5% (conn): Connecting to a relay\n",
            "Jul 23 09:41:55.000 [notice] Bootstrapped 10% (conn_done): Connected to a relay\n",
            "Jul 23 09:41:55.000 [notice] Bootstrapped 14% (handshake): Handshaking with a relay\n",
            "Jul 23 09:41:56.000 [notice] Bootstrapped 15% (handshake_done): Handshake with a relay done\n",
            "Jul 23 09:41:56.000 [notice] Bootstrapped 75% (enough_dirinfo): Loaded enough directory info to build circuits\n",
            "Jul 23 09:41:56.000 [notice] Bootstrapped 90% (ap_handshake_done): Handshake finished with a relay to build circuits\n",
            "Jul 23 09:41:56.000 [notice] Bootstrapped 95% (circuit_create): Establishing a Tor circuit\n",
            "Jul 23 09:41:57.000 [notice] Bootstrapped 100% (done): Done\n"
          ]
        },
        {
          "output_type": "stream",
          "name": "stderr",
          "text": [
            "DEBUG:stem:GETCONF __owningcontrollerprocess (runtime: 0.3486)\n",
            "INFO:stem:Error while receiving a control message (SocketClosed): empty socket content\n",
            "INFO:stem:Error while receiving a control message (SocketClosed): empty socket content\n",
            "INFO:stem:Error while receiving a control message (SocketClosed): empty socket content\n",
            "INFO:stem:Error while receiving a control message (SocketClosed): empty socket content\n",
            "INFO:stem:Error while receiving a control message (SocketClosed): empty socket content\n",
            "INFO:stem:Error while receiving a control message (SocketClosed): empty socket content\n",
            "INFO:stem:Error while receiving a control message (SocketClosed): empty socket content\n"
          ]
        },
        {
          "output_type": "stream",
          "name": "stdout",
          "text": [
            "Country: CA, google.com not accessible. Retrying with a new endpoint.\n",
            "Jul 23 09:42:36.000 [notice] Bootstrapped 0% (starting): Starting\n",
            "Jul 23 09:42:36.000 [notice] Bootstrapped 5% (conn): Connecting to a relay\n",
            "Jul 23 09:42:37.000 [notice] Bootstrapped 10% (conn_done): Connected to a relay\n",
            "Jul 23 09:42:38.000 [notice] Bootstrapped 14% (handshake): Handshaking with a relay\n",
            "Jul 23 09:42:38.000 [notice] Bootstrapped 15% (handshake_done): Handshake with a relay done\n",
            "Jul 23 09:42:38.000 [notice] Bootstrapped 75% (enough_dirinfo): Loaded enough directory info to build circuits\n",
            "Jul 23 09:42:38.000 [notice] Bootstrapped 90% (ap_handshake_done): Handshake finished with a relay to build circuits\n",
            "Jul 23 09:42:38.000 [notice] Bootstrapped 95% (circuit_create): Establishing a Tor circuit\n",
            "Jul 23 09:42:39.000 [notice] Bootstrapped 100% (done): Done\n"
          ]
        },
        {
          "output_type": "stream",
          "name": "stderr",
          "text": [
            "DEBUG:stem:GETCONF __owningcontrollerprocess (runtime: 0.3537)\n",
            "INFO:stem:Error while receiving a control message (SocketClosed): empty socket content\n"
          ]
        },
        {
          "output_type": "stream",
          "name": "stdout",
          "text": [
            "Country: CA, google.com Accessible: True, apple.com Accessible: True\n",
            "Jul 23 09:43:21.000 [notice] Bootstrapped 0% (starting): Starting\n",
            "Jul 23 09:43:21.000 [notice] Bootstrapped 5% (conn): Connecting to a relay\n",
            "Jul 23 09:43:22.000 [notice] Bootstrapped 10% (conn_done): Connected to a relay\n",
            "Jul 23 09:43:22.000 [notice] Bootstrapped 14% (handshake): Handshaking with a relay\n",
            "Jul 23 09:43:23.000 [notice] Bootstrapped 15% (handshake_done): Handshake with a relay done\n",
            "Jul 23 09:43:23.000 [notice] Bootstrapped 75% (enough_dirinfo): Loaded enough directory info to build circuits\n",
            "Jul 23 09:43:23.000 [notice] Bootstrapped 90% (ap_handshake_done): Handshake finished with a relay to build circuits\n",
            "Jul 23 09:43:23.000 [notice] Bootstrapped 95% (circuit_create): Establishing a Tor circuit\n",
            "Jul 23 09:43:24.000 [notice] Bootstrapped 100% (done): Done\n"
          ]
        },
        {
          "output_type": "stream",
          "name": "stderr",
          "text": [
            "DEBUG:stem:GETCONF __owningcontrollerprocess (runtime: 0.3484)\n",
            "INFO:stem:Error while receiving a control message (SocketClosed): empty socket content\n"
          ]
        },
        {
          "output_type": "stream",
          "name": "stdout",
          "text": [
            "Country: DE, google.com not accessible. Retrying with a new endpoint.\n",
            "Jul 23 09:44:03.000 [notice] Bootstrapped 0% (starting): Starting\n",
            "Jul 23 09:44:03.000 [notice] Bootstrapped 5% (conn): Connecting to a relay\n",
            "Jul 23 09:44:03.000 [notice] Bootstrapped 10% (conn_done): Connected to a relay\n",
            "Jul 23 09:44:04.000 [notice] Bootstrapped 14% (handshake): Handshaking with a relay\n",
            "Jul 23 09:44:04.000 [notice] Bootstrapped 15% (handshake_done): Handshake with a relay done\n",
            "Jul 23 09:44:04.000 [notice] Bootstrapped 75% (enough_dirinfo): Loaded enough directory info to build circuits\n",
            "Jul 23 09:44:04.000 [notice] Bootstrapped 80% (ap_conn): Connecting to a relay to build circuits\n",
            "Jul 23 09:44:04.000 [notice] Bootstrapped 85% (ap_conn_done): Connected to a relay to build circuits\n",
            "Jul 23 09:44:05.000 [notice] Bootstrapped 89% (ap_handshake): Finishing handshake with a relay to build circuits\n",
            "Jul 23 09:44:05.000 [notice] Bootstrapped 90% (ap_handshake_done): Handshake finished with a relay to build circuits\n",
            "Jul 23 09:44:05.000 [notice] Bootstrapped 95% (circuit_create): Establishing a Tor circuit\n",
            "Jul 23 09:44:06.000 [notice] Bootstrapped 100% (done): Done\n"
          ]
        },
        {
          "output_type": "stream",
          "name": "stderr",
          "text": [
            "DEBUG:stem:GETCONF __owningcontrollerprocess (runtime: 0.3485)\n",
            "INFO:stem:Error while receiving a control message (SocketClosed): empty socket content\n",
            "INFO:stem:Error while receiving a control message (SocketClosed): empty socket content\n",
            "INFO:stem:Error while receiving a control message (SocketClosed): empty socket content\n",
            "INFO:stem:Error while receiving a control message (SocketClosed): empty socket content\n",
            "INFO:stem:Error while receiving a control message (SocketClosed): empty socket content\n",
            "INFO:stem:Error while receiving a control message (SocketClosed): empty socket content\n"
          ]
        },
        {
          "output_type": "stream",
          "name": "stdout",
          "text": [
            "Country: DE, google.com Accessible: True, apple.com Accessible: True\n",
            "Jul 23 09:44:49.000 [notice] Bootstrapped 0% (starting): Starting\n",
            "Jul 23 09:44:49.000 [notice] Bootstrapped 5% (conn): Connecting to a relay\n",
            "Jul 23 09:44:50.000 [notice] Bootstrapped 10% (conn_done): Connected to a relay\n",
            "Jul 23 09:44:50.000 [notice] Bootstrapped 14% (handshake): Handshaking with a relay\n",
            "Jul 23 09:44:51.000 [notice] Bootstrapped 15% (handshake_done): Handshake with a relay done\n",
            "Jul 23 09:44:51.000 [notice] Bootstrapped 75% (enough_dirinfo): Loaded enough directory info to build circuits\n",
            "Jul 23 09:44:51.000 [notice] Bootstrapped 85% (ap_conn_done): Connected to a relay to build circuits\n",
            "Jul 23 09:44:51.000 [notice] Bootstrapped 89% (ap_handshake): Finishing handshake with a relay to build circuits\n",
            "Jul 23 09:44:52.000 [notice] Bootstrapped 90% (ap_handshake_done): Handshake finished with a relay to build circuits\n",
            "Jul 23 09:44:52.000 [notice] Bootstrapped 95% (circuit_create): Establishing a Tor circuit\n",
            "Jul 23 09:44:53.000 [notice] Bootstrapped 100% (done): Done\n"
          ]
        },
        {
          "output_type": "stream",
          "name": "stderr",
          "text": [
            "DEBUG:stem:GETCONF __owningcontrollerprocess (runtime: 0.3503)\n",
            "INFO:stem:Error while receiving a control message (SocketClosed): empty socket content\n"
          ]
        },
        {
          "output_type": "stream",
          "name": "stdout",
          "text": [
            "Country: FR, google.com not accessible. Retrying with a new endpoint.\n",
            "Jul 23 09:45:32.000 [notice] Bootstrapped 0% (starting): Starting\n",
            "Jul 23 09:45:32.000 [notice] Bootstrapped 5% (conn): Connecting to a relay\n",
            "Jul 23 09:45:34.000 [notice] Bootstrapped 10% (conn_done): Connected to a relay\n",
            "Jul 23 09:45:34.000 [notice] Bootstrapped 14% (handshake): Handshaking with a relay\n",
            "Jul 23 09:45:35.000 [notice] Bootstrapped 15% (handshake_done): Handshake with a relay done\n",
            "Jul 23 09:45:35.000 [notice] Bootstrapped 75% (enough_dirinfo): Loaded enough directory info to build circuits\n",
            "Jul 23 09:45:35.000 [notice] Bootstrapped 90% (ap_handshake_done): Handshake finished with a relay to build circuits\n",
            "Jul 23 09:45:35.000 [notice] Bootstrapped 95% (circuit_create): Establishing a Tor circuit\n",
            "Jul 23 09:45:35.000 [notice] Bootstrapped 100% (done): Done\n"
          ]
        },
        {
          "output_type": "stream",
          "name": "stderr",
          "text": [
            "DEBUG:stem:GETCONF __owningcontrollerprocess (runtime: 0.3488)\n",
            "INFO:stem:Error while receiving a control message (SocketClosed): received exception \"read of closed file\"\n"
          ]
        },
        {
          "output_type": "stream",
          "name": "stdout",
          "text": [
            "Country: FR, google.com Accessible: True, apple.com Accessible: True\n",
            "Jul 23 09:46:17.000 [notice] Bootstrapped 0% (starting): Starting\n",
            "Jul 23 09:46:17.000 [notice] Bootstrapped 5% (conn): Connecting to a relay\n",
            "Jul 23 09:46:18.000 [notice] Bootstrapped 10% (conn_done): Connected to a relay\n",
            "Jul 23 09:46:19.000 [notice] Bootstrapped 14% (handshake): Handshaking with a relay\n",
            "Jul 23 09:46:19.000 [notice] Bootstrapped 15% (handshake_done): Handshake with a relay done\n",
            "Jul 23 09:46:19.000 [notice] Bootstrapped 75% (enough_dirinfo): Loaded enough directory info to build circuits\n",
            "Jul 23 09:46:19.000 [notice] Bootstrapped 90% (ap_handshake_done): Handshake finished with a relay to build circuits\n",
            "Jul 23 09:46:19.000 [notice] Bootstrapped 95% (circuit_create): Establishing a Tor circuit\n",
            "Jul 23 09:46:20.000 [notice] Bootstrapped 100% (done): Done\n"
          ]
        },
        {
          "output_type": "stream",
          "name": "stderr",
          "text": [
            "DEBUG:stem:GETCONF __owningcontrollerprocess (runtime: 0.3485)\n",
            "INFO:stem:Error while receiving a control message (SocketClosed): received exception \"read of closed file\"\n"
          ]
        },
        {
          "output_type": "stream",
          "name": "stdout",
          "text": [
            "Country: GB, google.com not accessible. Retrying with a new endpoint.\n",
            "Jul 23 09:47:00.000 [notice] Bootstrapped 0% (starting): Starting\n",
            "Jul 23 09:47:01.000 [notice] Bootstrapped 5% (conn): Connecting to a relay\n",
            "Jul 23 09:47:02.000 [notice] Bootstrapped 10% (conn_done): Connected to a relay\n",
            "Jul 23 09:47:02.000 [notice] Bootstrapped 14% (handshake): Handshaking with a relay\n",
            "Jul 23 09:47:03.000 [notice] Bootstrapped 15% (handshake_done): Handshake with a relay done\n",
            "Jul 23 09:47:03.000 [notice] Bootstrapped 75% (enough_dirinfo): Loaded enough directory info to build circuits\n",
            "Jul 23 09:47:03.000 [notice] Bootstrapped 90% (ap_handshake_done): Handshake finished with a relay to build circuits\n",
            "Jul 23 09:47:03.000 [notice] Bootstrapped 95% (circuit_create): Establishing a Tor circuit\n",
            "Jul 23 09:47:04.000 [notice] Bootstrapped 100% (done): Done\n"
          ]
        },
        {
          "output_type": "stream",
          "name": "stderr",
          "text": [
            "DEBUG:stem:GETCONF __owningcontrollerprocess (runtime: 0.3487)\n",
            "INFO:stem:Error while receiving a control message (SocketClosed): received exception \"read of closed file\"\n"
          ]
        },
        {
          "output_type": "stream",
          "name": "stdout",
          "text": [
            "Country: GB, google.com Accessible: True, apple.com Accessible: True\n",
            "Jul 23 09:47:46.000 [notice] Bootstrapped 0% (starting): Starting\n",
            "Jul 23 09:47:47.000 [notice] Bootstrapped 5% (conn): Connecting to a relay\n",
            "Jul 23 09:47:48.000 [notice] Bootstrapped 10% (conn_done): Connected to a relay\n",
            "Jul 23 09:47:48.000 [notice] Bootstrapped 14% (handshake): Handshaking with a relay\n",
            "Jul 23 09:47:49.000 [notice] Bootstrapped 15% (handshake_done): Handshake with a relay done\n",
            "Jul 23 09:47:49.000 [notice] Bootstrapped 75% (enough_dirinfo): Loaded enough directory info to build circuits\n",
            "Jul 23 09:47:49.000 [notice] Bootstrapped 90% (ap_handshake_done): Handshake finished with a relay to build circuits\n",
            "Jul 23 09:47:49.000 [notice] Bootstrapped 95% (circuit_create): Establishing a Tor circuit\n",
            "Jul 23 09:47:50.000 [notice] Bootstrapped 100% (done): Done\n"
          ]
        },
        {
          "output_type": "stream",
          "name": "stderr",
          "text": [
            "DEBUG:stem:GETCONF __owningcontrollerprocess (runtime: 0.3484)\n",
            "INFO:stem:Error while receiving a control message (SocketClosed): received exception \"read of closed file\"\n",
            "INFO:stem:Error while receiving a control message (SocketClosed): received exception \"peek of closed file\"\n"
          ]
        },
        {
          "output_type": "stream",
          "name": "stdout",
          "text": [
            "Country: AU, google.com not accessible. Retrying with a new endpoint.\n",
            "Jul 23 09:48:30.000 [notice] Bootstrapped 0% (starting): Starting\n",
            "Jul 23 09:48:31.000 [notice] Bootstrapped 5% (conn): Connecting to a relay\n",
            "Jul 23 09:48:32.000 [notice] Bootstrapped 10% (conn_done): Connected to a relay\n",
            "Jul 23 09:48:32.000 [notice] Bootstrapped 14% (handshake): Handshaking with a relay\n",
            "Jul 23 09:48:33.000 [notice] Bootstrapped 15% (handshake_done): Handshake with a relay done\n",
            "Jul 23 09:48:33.000 [notice] Bootstrapped 75% (enough_dirinfo): Loaded enough directory info to build circuits\n",
            "Jul 23 09:48:33.000 [notice] Bootstrapped 90% (ap_handshake_done): Handshake finished with a relay to build circuits\n",
            "Jul 23 09:48:33.000 [notice] Bootstrapped 95% (circuit_create): Establishing a Tor circuit\n",
            "Jul 23 09:48:34.000 [notice] Bootstrapped 100% (done): Done\n"
          ]
        },
        {
          "output_type": "stream",
          "name": "stderr",
          "text": [
            "DEBUG:stem:GETCONF __owningcontrollerprocess (runtime: 0.3489)\n",
            "INFO:stem:Error while receiving a control message (SocketClosed): empty socket content\n"
          ]
        },
        {
          "output_type": "stream",
          "name": "stdout",
          "text": [
            "Country: AU, google.com Accessible: True, apple.com Accessible: True\n",
            "Jul 23 09:49:25.000 [notice] Bootstrapped 0% (starting): Starting\n",
            "Jul 23 09:49:25.000 [notice] Bootstrapped 5% (conn): Connecting to a relay\n",
            "Jul 23 09:49:26.000 [notice] Bootstrapped 10% (conn_done): Connected to a relay\n",
            "Jul 23 09:49:27.000 [notice] Bootstrapped 14% (handshake): Handshaking with a relay\n",
            "Jul 23 09:49:27.000 [notice] Bootstrapped 15% (handshake_done): Handshake with a relay done\n",
            "Jul 23 09:49:27.000 [notice] Bootstrapped 75% (enough_dirinfo): Loaded enough directory info to build circuits\n",
            "Jul 23 09:49:27.000 [notice] Bootstrapped 95% (circuit_create): Establishing a Tor circuit\n",
            "Jul 23 09:49:29.000 [notice] Bootstrapped 100% (done): Done\n"
          ]
        },
        {
          "output_type": "stream",
          "name": "stderr",
          "text": [
            "DEBUG:stem:GETCONF __owningcontrollerprocess (runtime: 0.3533)\n",
            "INFO:stem:Error while receiving a control message (SocketClosed): received exception \"read of closed file\"\n"
          ]
        },
        {
          "output_type": "stream",
          "name": "stdout",
          "text": [
            "Country: JP, google.com Accessible: True, apple.com Accessible: True\n",
            "Jul 23 09:50:16.000 [notice] Bootstrapped 0% (starting): Starting\n",
            "Jul 23 09:50:17.000 [notice] Bootstrapped 5% (conn): Connecting to a relay\n",
            "Jul 23 09:50:17.000 [notice] Bootstrapped 10% (conn_done): Connected to a relay\n",
            "Jul 23 09:50:17.000 [notice] Bootstrapped 14% (handshake): Handshaking with a relay\n",
            "Jul 23 09:50:17.000 [notice] Bootstrapped 15% (handshake_done): Handshake with a relay done\n",
            "Jul 23 09:50:17.000 [notice] Bootstrapped 75% (enough_dirinfo): Loaded enough directory info to build circuits\n",
            "Jul 23 09:50:18.000 [notice] Bootstrapped 80% (ap_conn): Connecting to a relay to build circuits\n",
            "Jul 23 09:50:18.000 [notice] Bootstrapped 85% (ap_conn_done): Connected to a relay to build circuits\n",
            "Jul 23 09:50:18.000 [notice] Bootstrapped 89% (ap_handshake): Finishing handshake with a relay to build circuits\n",
            "Jul 23 09:50:19.000 [notice] Bootstrapped 90% (ap_handshake_done): Handshake finished with a relay to build circuits\n",
            "Jul 23 09:50:19.000 [notice] Bootstrapped 95% (circuit_create): Establishing a Tor circuit\n",
            "Jul 23 09:50:20.000 [notice] Bootstrapped 100% (done): Done\n"
          ]
        },
        {
          "output_type": "stream",
          "name": "stderr",
          "text": [
            "DEBUG:stem:GETCONF __owningcontrollerprocess (runtime: 0.3486)\n",
            "INFO:stem:Error while receiving a control message (SocketClosed): received exception \"read of closed file\"\n"
          ]
        },
        {
          "output_type": "stream",
          "name": "stdout",
          "text": [
            "Country: KR, google.com Accessible: True, apple.com Accessible: True\n",
            "Jul 23 09:51:05.000 [notice] Bootstrapped 0% (starting): Starting\n",
            "Jul 23 09:51:06.000 [notice] Bootstrapped 5% (conn): Connecting to a relay\n",
            "Jul 23 09:51:07.000 [notice] Bootstrapped 10% (conn_done): Connected to a relay\n",
            "Jul 23 09:51:07.000 [notice] Bootstrapped 14% (handshake): Handshaking with a relay\n",
            "Jul 23 09:51:08.000 [notice] Bootstrapped 15% (handshake_done): Handshake with a relay done\n",
            "Jul 23 09:51:08.000 [notice] Bootstrapped 75% (enough_dirinfo): Loaded enough directory info to build circuits\n",
            "Jul 23 09:51:08.000 [notice] Bootstrapped 90% (ap_handshake_done): Handshake finished with a relay to build circuits\n",
            "Jul 23 09:51:08.000 [notice] Bootstrapped 95% (circuit_create): Establishing a Tor circuit\n",
            "Jul 23 09:51:09.000 [notice] Bootstrapped 100% (done): Done\n"
          ]
        },
        {
          "output_type": "stream",
          "name": "stderr",
          "text": [
            "DEBUG:stem:GETCONF __owningcontrollerprocess (runtime: 0.3486)\n",
            "INFO:stem:Error while receiving a control message (SocketClosed): received exception \"read of closed file\"\n"
          ]
        },
        {
          "output_type": "stream",
          "name": "stdout",
          "text": [
            "Country: RU, google.com Accessible: True, apple.com Accessible: True\n",
            "Jul 23 09:51:50.000 [notice] Bootstrapped 0% (starting): Starting\n",
            "Jul 23 09:51:50.000 [notice] Bootstrapped 5% (conn): Connecting to a relay\n",
            "Jul 23 09:51:51.000 [notice] Bootstrapped 10% (conn_done): Connected to a relay\n",
            "Jul 23 09:51:52.000 [notice] Bootstrapped 14% (handshake): Handshaking with a relay\n",
            "Jul 23 09:51:52.000 [notice] Bootstrapped 15% (handshake_done): Handshake with a relay done\n",
            "Jul 23 09:51:52.000 [notice] Bootstrapped 75% (enough_dirinfo): Loaded enough directory info to build circuits\n",
            "Jul 23 09:51:52.000 [notice] Bootstrapped 90% (ap_handshake_done): Handshake finished with a relay to build circuits\n",
            "Jul 23 09:51:52.000 [notice] Bootstrapped 95% (circuit_create): Establishing a Tor circuit\n",
            "Jul 23 09:51:53.000 [notice] Bootstrapped 100% (done): Done\n"
          ]
        },
        {
          "output_type": "stream",
          "name": "stderr",
          "text": [
            "DEBUG:stem:GETCONF __owningcontrollerprocess (runtime: 0.3567)\n",
            "INFO:stem:Error while receiving a control message (SocketClosed): received exception \"read of closed file\"\n"
          ]
        },
        {
          "output_type": "stream",
          "name": "stdout",
          "text": [
            "Country: BR, google.com not accessible. Retrying with a new endpoint.\n",
            "Jul 23 09:52:34.000 [notice] Bootstrapped 0% (starting): Starting\n",
            "Jul 23 09:52:35.000 [notice] Bootstrapped 5% (conn): Connecting to a relay\n",
            "Jul 23 09:52:35.000 [notice] Bootstrapped 10% (conn_done): Connected to a relay\n",
            "Jul 23 09:52:35.000 [notice] Bootstrapped 14% (handshake): Handshaking with a relay\n",
            "Jul 23 09:52:36.000 [notice] Bootstrapped 15% (handshake_done): Handshake with a relay done\n",
            "Jul 23 09:52:36.000 [notice] Bootstrapped 75% (enough_dirinfo): Loaded enough directory info to build circuits\n",
            "Jul 23 09:52:36.000 [notice] Bootstrapped 85% (ap_conn_done): Connected to a relay to build circuits\n",
            "Jul 23 09:52:36.000 [notice] Bootstrapped 89% (ap_handshake): Finishing handshake with a relay to build circuits\n",
            "Jul 23 09:52:37.000 [notice] Bootstrapped 90% (ap_handshake_done): Handshake finished with a relay to build circuits\n",
            "Jul 23 09:52:37.000 [notice] Bootstrapped 95% (circuit_create): Establishing a Tor circuit\n",
            "Jul 23 09:52:38.000 [notice] Bootstrapped 100% (done): Done\n"
          ]
        },
        {
          "output_type": "stream",
          "name": "stderr",
          "text": [
            "DEBUG:stem:GETCONF __owningcontrollerprocess (runtime: 0.3487)\n",
            "INFO:stem:Error while receiving a control message (SocketClosed): received exception \"read of closed file\"\n"
          ]
        },
        {
          "output_type": "stream",
          "name": "stdout",
          "text": [
            "Country: BR, google.com Accessible: True, apple.com Accessible: True\n",
            "Jul 23 09:53:22.000 [notice] Bootstrapped 0% (starting): Starting\n",
            "Jul 23 09:53:23.000 [notice] Bootstrapped 5% (conn): Connecting to a relay\n",
            "Jul 23 09:53:24.000 [notice] Bootstrapped 10% (conn_done): Connected to a relay\n",
            "Jul 23 09:53:24.000 [notice] Bootstrapped 14% (handshake): Handshaking with a relay\n",
            "Jul 23 09:53:25.000 [notice] Bootstrapped 15% (handshake_done): Handshake with a relay done\n",
            "Jul 23 09:53:25.000 [notice] Bootstrapped 75% (enough_dirinfo): Loaded enough directory info to build circuits\n",
            "Jul 23 09:53:25.000 [notice] Bootstrapped 90% (ap_handshake_done): Handshake finished with a relay to build circuits\n",
            "Jul 23 09:53:25.000 [notice] Bootstrapped 95% (circuit_create): Establishing a Tor circuit\n",
            "Jul 23 09:53:26.000 [notice] Bootstrapped 100% (done): Done\n"
          ]
        },
        {
          "output_type": "stream",
          "name": "stderr",
          "text": [
            "DEBUG:stem:GETCONF __owningcontrollerprocess (runtime: 0.3489)\n",
            "INFO:stem:Error while receiving a control message (SocketClosed): empty socket content\n"
          ]
        },
        {
          "output_type": "stream",
          "name": "stdout",
          "text": [
            "Country: ES, google.com Accessible: True, apple.com Accessible: True\n",
            "Jul 23 09:54:07.000 [notice] Bootstrapped 0% (starting): Starting\n",
            "Jul 23 09:54:08.000 [notice] Bootstrapped 5% (conn): Connecting to a relay\n",
            "Jul 23 09:54:08.000 [notice] Bootstrapped 10% (conn_done): Connected to a relay\n",
            "Jul 23 09:54:08.000 [notice] Bootstrapped 14% (handshake): Handshaking with a relay\n",
            "Jul 23 09:54:09.000 [notice] Bootstrapped 15% (handshake_done): Handshake with a relay done\n",
            "Jul 23 09:54:09.000 [notice] Bootstrapped 75% (enough_dirinfo): Loaded enough directory info to build circuits\n",
            "Jul 23 09:54:09.000 [notice] Bootstrapped 85% (ap_conn_done): Connected to a relay to build circuits\n",
            "Jul 23 09:54:09.000 [notice] Bootstrapped 89% (ap_handshake): Finishing handshake with a relay to build circuits\n",
            "Jul 23 09:54:10.000 [notice] Bootstrapped 90% (ap_handshake_done): Handshake finished with a relay to build circuits\n",
            "Jul 23 09:54:10.000 [notice] Bootstrapped 95% (circuit_create): Establishing a Tor circuit\n",
            "Jul 23 09:54:12.000 [notice] Bootstrapped 100% (done): Done\n"
          ]
        },
        {
          "output_type": "stream",
          "name": "stderr",
          "text": [
            "DEBUG:stem:GETCONF __owningcontrollerprocess (runtime: 0.3486)\n",
            "INFO:stem:Error while receiving a control message (SocketClosed): received exception \"read of closed file\"\n"
          ]
        },
        {
          "output_type": "stream",
          "name": "stdout",
          "text": [
            "Country: IT, google.com not accessible. Retrying with a new endpoint.\n",
            "Jul 23 09:54:51.000 [notice] Bootstrapped 0% (starting): Starting\n",
            "Jul 23 09:54:52.000 [notice] Bootstrapped 5% (conn): Connecting to a relay\n",
            "Jul 23 09:54:52.000 [notice] Bootstrapped 10% (conn_done): Connected to a relay\n",
            "Jul 23 09:54:52.000 [notice] Bootstrapped 14% (handshake): Handshaking with a relay\n",
            "Jul 23 09:54:52.000 [notice] Bootstrapped 15% (handshake_done): Handshake with a relay done\n",
            "Jul 23 09:54:52.000 [notice] Bootstrapped 75% (enough_dirinfo): Loaded enough directory info to build circuits\n",
            "Jul 23 09:54:53.000 [notice] Bootstrapped 80% (ap_conn): Connecting to a relay to build circuits\n",
            "Jul 23 09:54:53.000 [notice] Bootstrapped 85% (ap_conn_done): Connected to a relay to build circuits\n",
            "Jul 23 09:54:53.000 [notice] Bootstrapped 89% (ap_handshake): Finishing handshake with a relay to build circuits\n",
            "Jul 23 09:54:54.000 [notice] Bootstrapped 90% (ap_handshake_done): Handshake finished with a relay to build circuits\n",
            "Jul 23 09:54:54.000 [notice] Bootstrapped 95% (circuit_create): Establishing a Tor circuit\n",
            "Jul 23 09:54:55.000 [notice] Bootstrapped 100% (done): Done\n"
          ]
        },
        {
          "output_type": "stream",
          "name": "stderr",
          "text": [
            "DEBUG:stem:GETCONF __owningcontrollerprocess (runtime: 0.3487)\n",
            "INFO:stem:Error while receiving a control message (SocketClosed): received exception \"read of closed file\"\n"
          ]
        },
        {
          "output_type": "stream",
          "name": "stdout",
          "text": [
            "Country: IT, google.com Accessible: True, apple.com Accessible: True\n",
            "Jul 23 09:55:38.000 [notice] Bootstrapped 0% (starting): Starting\n",
            "Jul 23 09:55:39.000 [notice] Bootstrapped 5% (conn): Connecting to a relay\n",
            "Jul 23 09:55:39.000 [notice] Bootstrapped 10% (conn_done): Connected to a relay\n",
            "Jul 23 09:55:39.000 [notice] Bootstrapped 14% (handshake): Handshaking with a relay\n",
            "Jul 23 09:55:40.000 [notice] Bootstrapped 15% (handshake_done): Handshake with a relay done\n",
            "Jul 23 09:55:40.000 [notice] Bootstrapped 75% (enough_dirinfo): Loaded enough directory info to build circuits\n",
            "Jul 23 09:55:40.000 [notice] Bootstrapped 80% (ap_conn): Connecting to a relay to build circuits\n",
            "Jul 23 09:55:40.000 [notice] Bootstrapped 85% (ap_conn_done): Connected to a relay to build circuits\n",
            "Jul 23 09:55:40.000 [notice] Bootstrapped 89% (ap_handshake): Finishing handshake with a relay to build circuits\n",
            "Jul 23 09:55:41.000 [notice] Bootstrapped 90% (ap_handshake_done): Handshake finished with a relay to build circuits\n",
            "Jul 23 09:55:41.000 [notice] Bootstrapped 95% (circuit_create): Establishing a Tor circuit\n",
            "Jul 23 09:55:42.000 [notice] Bootstrapped 100% (done): Done\n"
          ]
        },
        {
          "output_type": "stream",
          "name": "stderr",
          "text": [
            "DEBUG:stem:GETCONF __owningcontrollerprocess (runtime: 0.3488)\n",
            "INFO:stem:Error while receiving a control message (SocketClosed): received exception \"read of closed file\"\n"
          ]
        },
        {
          "output_type": "stream",
          "name": "stdout",
          "text": [
            "Country: CH, google.com Accessible: True, apple.com Accessible: True\n",
            "Jul 23 09:56:23.000 [notice] Bootstrapped 0% (starting): Starting\n",
            "Jul 23 09:56:23.000 [notice] Bootstrapped 5% (conn): Connecting to a relay\n",
            "Jul 23 09:56:24.000 [notice] Bootstrapped 10% (conn_done): Connected to a relay\n",
            "Jul 23 09:56:25.000 [notice] Bootstrapped 14% (handshake): Handshaking with a relay\n",
            "Jul 23 09:56:25.000 [notice] Bootstrapped 15% (handshake_done): Handshake with a relay done\n",
            "Jul 23 09:56:25.000 [notice] Bootstrapped 75% (enough_dirinfo): Loaded enough directory info to build circuits\n",
            "Jul 23 09:56:25.000 [notice] Bootstrapped 90% (ap_handshake_done): Handshake finished with a relay to build circuits\n",
            "Jul 23 09:56:25.000 [notice] Bootstrapped 95% (circuit_create): Establishing a Tor circuit\n",
            "Jul 23 09:56:26.000 [notice] Bootstrapped 100% (done): Done\n"
          ]
        },
        {
          "output_type": "stream",
          "name": "stderr",
          "text": [
            "DEBUG:stem:GETCONF __owningcontrollerprocess (runtime: 0.3486)\n",
            "INFO:stem:Error while receiving a control message (SocketClosed): received exception \"read of closed file\"\n"
          ]
        },
        {
          "output_type": "stream",
          "name": "stdout",
          "text": [
            "Country: SE, google.com not accessible. Retrying with a new endpoint.\n",
            "Jul 23 09:57:05.000 [notice] Bootstrapped 0% (starting): Starting\n",
            "Jul 23 09:57:05.000 [notice] Bootstrapped 5% (conn): Connecting to a relay\n",
            "Jul 23 09:57:05.000 [notice] Bootstrapped 10% (conn_done): Connected to a relay\n",
            "Jul 23 09:57:05.000 [notice] Bootstrapped 14% (handshake): Handshaking with a relay\n",
            "Jul 23 09:57:07.000 [notice] Bootstrapped 15% (handshake_done): Handshake with a relay done\n",
            "Jul 23 09:57:07.000 [notice] Bootstrapped 75% (enough_dirinfo): Loaded enough directory info to build circuits\n",
            "Jul 23 09:57:07.000 [notice] Bootstrapped 90% (ap_handshake_done): Handshake finished with a relay to build circuits\n",
            "Jul 23 09:57:07.000 [notice] Bootstrapped 95% (circuit_create): Establishing a Tor circuit\n",
            "Jul 23 09:57:09.000 [notice] Bootstrapped 100% (done): Done\n"
          ]
        },
        {
          "output_type": "stream",
          "name": "stderr",
          "text": [
            "DEBUG:stem:GETCONF __owningcontrollerprocess (runtime: 0.3488)\n",
            "INFO:stem:Error while receiving a control message (SocketClosed): empty socket content\n",
            "INFO:stem:Error while receiving a control message (SocketClosed): received exception \"peek of closed file\"\n"
          ]
        },
        {
          "output_type": "stream",
          "name": "stdout",
          "text": [
            "Country: SE, google.com not accessible. Retrying with a new endpoint.\n",
            "Jul 23 09:57:48.000 [notice] Bootstrapped 0% (starting): Starting\n",
            "Jul 23 09:57:48.000 [notice] Bootstrapped 5% (conn): Connecting to a relay\n",
            "Jul 23 09:57:49.000 [notice] Bootstrapped 10% (conn_done): Connected to a relay\n",
            "Jul 23 09:57:49.000 [notice] Bootstrapped 14% (handshake): Handshaking with a relay\n",
            "Jul 23 09:57:50.000 [notice] Bootstrapped 15% (handshake_done): Handshake with a relay done\n",
            "Jul 23 09:57:50.000 [notice] Bootstrapped 75% (enough_dirinfo): Loaded enough directory info to build circuits\n",
            "Jul 23 09:57:50.000 [notice] Bootstrapped 90% (ap_handshake_done): Handshake finished with a relay to build circuits\n",
            "Jul 23 09:57:50.000 [notice] Bootstrapped 95% (circuit_create): Establishing a Tor circuit\n",
            "Jul 23 09:57:51.000 [notice] Bootstrapped 100% (done): Done\n"
          ]
        },
        {
          "output_type": "stream",
          "name": "stderr",
          "text": [
            "DEBUG:stem:GETCONF __owningcontrollerprocess (runtime: 0.3486)\n",
            "INFO:stem:Error while receiving a control message (SocketClosed): empty socket content\n",
            "INFO:stem:Error while receiving a control message (SocketClosed): empty socket content\n",
            "INFO:stem:Error while receiving a control message (SocketClosed): empty socket content\n",
            "INFO:stem:Error while receiving a control message (SocketClosed): empty socket content\n",
            "INFO:stem:Error while receiving a control message (SocketClosed): empty socket content\n",
            "INFO:stem:Error while receiving a control message (SocketClosed): empty socket content\n"
          ]
        },
        {
          "output_type": "stream",
          "name": "stdout",
          "text": [
            "Country: SE, google.com Accessible: True, apple.com Accessible: True\n",
            "Jul 23 09:58:32.000 [notice] Bootstrapped 0% (starting): Starting\n",
            "Jul 23 09:58:33.000 [notice] Bootstrapped 5% (conn): Connecting to a relay\n",
            "Jul 23 09:58:35.000 [notice] Bootstrapped 10% (conn_done): Connected to a relay\n",
            "Jul 23 09:58:35.000 [notice] Bootstrapped 14% (handshake): Handshaking with a relay\n",
            "Jul 23 09:58:36.000 [notice] Bootstrapped 15% (handshake_done): Handshake with a relay done\n",
            "Jul 23 09:58:36.000 [notice] Bootstrapped 75% (enough_dirinfo): Loaded enough directory info to build circuits\n",
            "Jul 23 09:58:36.000 [notice] Bootstrapped 90% (ap_handshake_done): Handshake finished with a relay to build circuits\n",
            "Jul 23 09:58:36.000 [notice] Bootstrapped 95% (circuit_create): Establishing a Tor circuit\n",
            "Jul 23 09:58:36.000 [notice] Bootstrapped 100% (done): Done\n"
          ]
        },
        {
          "output_type": "stream",
          "name": "stderr",
          "text": [
            "DEBUG:stem:GETCONF __owningcontrollerprocess (runtime: 0.3484)\n",
            "INFO:stem:Error while receiving a control message (SocketClosed): empty socket content\n",
            "INFO:stem:Error while receiving a control message (SocketClosed): empty socket content\n",
            "INFO:stem:Error while receiving a control message (SocketClosed): empty socket content\n",
            "INFO:stem:Error while receiving a control message (SocketClosed): empty socket content\n",
            "INFO:stem:Error while receiving a control message (SocketClosed): empty socket content\n"
          ]
        },
        {
          "output_type": "stream",
          "name": "stdout",
          "text": [
            "Country: FI, google.com not accessible. Retrying with a new endpoint.\n",
            "Jul 23 09:59:15.000 [notice] Bootstrapped 0% (starting): Starting\n",
            "Jul 23 09:59:16.000 [notice] Bootstrapped 5% (conn): Connecting to a relay\n",
            "Jul 23 09:59:17.000 [notice] Bootstrapped 10% (conn_done): Connected to a relay\n",
            "Jul 23 09:59:17.000 [notice] Bootstrapped 14% (handshake): Handshaking with a relay\n",
            "Jul 23 09:59:18.000 [notice] Bootstrapped 15% (handshake_done): Handshake with a relay done\n",
            "Jul 23 09:59:18.000 [notice] Bootstrapped 75% (enough_dirinfo): Loaded enough directory info to build circuits\n",
            "Jul 23 09:59:18.000 [notice] Bootstrapped 90% (ap_handshake_done): Handshake finished with a relay to build circuits\n",
            "Jul 23 09:59:18.000 [notice] Bootstrapped 95% (circuit_create): Establishing a Tor circuit\n",
            "Jul 23 09:59:19.000 [notice] Bootstrapped 100% (done): Done\n"
          ]
        },
        {
          "output_type": "stream",
          "name": "stderr",
          "text": [
            "DEBUG:stem:GETCONF __owningcontrollerprocess (runtime: 0.3485)\n",
            "INFO:stem:Error while receiving a control message (SocketClosed): received exception \"read of closed file\"\n"
          ]
        },
        {
          "output_type": "stream",
          "name": "stdout",
          "text": [
            "Country: FI, google.com Accessible: True, apple.com Accessible: True\n",
            "Jul 23 10:00:00.000 [notice] Bootstrapped 0% (starting): Starting\n",
            "Jul 23 10:00:01.000 [notice] Bootstrapped 5% (conn): Connecting to a relay\n",
            "Jul 23 10:00:02.000 [notice] Bootstrapped 10% (conn_done): Connected to a relay\n",
            "Jul 23 10:00:02.000 [notice] Bootstrapped 14% (handshake): Handshaking with a relay\n",
            "Jul 23 10:00:03.000 [notice] Bootstrapped 15% (handshake_done): Handshake with a relay done\n",
            "Jul 23 10:00:03.000 [notice] Bootstrapped 75% (enough_dirinfo): Loaded enough directory info to build circuits\n",
            "Jul 23 10:00:03.000 [notice] Bootstrapped 90% (ap_handshake_done): Handshake finished with a relay to build circuits\n",
            "Jul 23 10:00:03.000 [notice] Bootstrapped 95% (circuit_create): Establishing a Tor circuit\n",
            "Jul 23 10:00:04.000 [notice] Bootstrapped 100% (done): Done\n"
          ]
        },
        {
          "output_type": "stream",
          "name": "stderr",
          "text": [
            "DEBUG:stem:GETCONF __owningcontrollerprocess (runtime: 0.3486)\n",
            "INFO:stem:Error while receiving a control message (SocketClosed): empty socket content\n",
            "INFO:stem:Error while receiving a control message (SocketClosed): received exception \"peek of closed file\"\n"
          ]
        },
        {
          "output_type": "stream",
          "name": "stdout",
          "text": [
            "Country: NO, google.com Accessible: True, apple.com Accessible: True\n",
            "Jul 23 10:00:45.000 [notice] Bootstrapped 0% (starting): Starting\n",
            "Jul 23 10:00:45.000 [notice] Bootstrapped 5% (conn): Connecting to a relay\n",
            "Jul 23 10:00:46.000 [notice] Bootstrapped 10% (conn_done): Connected to a relay\n",
            "Jul 23 10:00:46.000 [notice] Bootstrapped 14% (handshake): Handshaking with a relay\n",
            "Jul 23 10:00:46.000 [notice] Bootstrapped 15% (handshake_done): Handshake with a relay done\n",
            "Jul 23 10:00:46.000 [notice] Bootstrapped 75% (enough_dirinfo): Loaded enough directory info to build circuits\n",
            "Jul 23 10:00:47.000 [notice] Bootstrapped 85% (ap_conn_done): Connected to a relay to build circuits\n",
            "Jul 23 10:00:47.000 [notice] Bootstrapped 89% (ap_handshake): Finishing handshake with a relay to build circuits\n",
            "Jul 23 10:00:48.000 [notice] Bootstrapped 90% (ap_handshake_done): Handshake finished with a relay to build circuits\n",
            "Jul 23 10:00:48.000 [notice] Bootstrapped 95% (circuit_create): Establishing a Tor circuit\n",
            "Jul 23 10:00:49.000 [notice] Bootstrapped 100% (done): Done\n"
          ]
        },
        {
          "output_type": "stream",
          "name": "stderr",
          "text": [
            "DEBUG:stem:GETCONF __owningcontrollerprocess (runtime: 0.3490)\n",
            "INFO:stem:Error while receiving a control message (SocketClosed): empty socket content\n"
          ]
        },
        {
          "output_type": "stream",
          "name": "stdout",
          "text": [
            "Country: DK, google.com not accessible. Retrying with a new endpoint.\n",
            "Jul 23 10:01:28.000 [notice] Bootstrapped 0% (starting): Starting\n",
            "Jul 23 10:01:29.000 [notice] Bootstrapped 5% (conn): Connecting to a relay\n",
            "Jul 23 10:01:30.000 [notice] Bootstrapped 10% (conn_done): Connected to a relay\n",
            "Jul 23 10:01:30.000 [notice] Bootstrapped 14% (handshake): Handshaking with a relay\n",
            "Jul 23 10:01:31.000 [notice] Bootstrapped 15% (handshake_done): Handshake with a relay done\n",
            "Jul 23 10:01:31.000 [notice] Bootstrapped 75% (enough_dirinfo): Loaded enough directory info to build circuits\n",
            "Jul 23 10:01:31.000 [notice] Bootstrapped 90% (ap_handshake_done): Handshake finished with a relay to build circuits\n",
            "Jul 23 10:01:31.000 [notice] Bootstrapped 95% (circuit_create): Establishing a Tor circuit\n",
            "Jul 23 10:01:32.000 [notice] Bootstrapped 100% (done): Done\n"
          ]
        },
        {
          "output_type": "stream",
          "name": "stderr",
          "text": [
            "DEBUG:stem:GETCONF __owningcontrollerprocess (runtime: 0.3514)\n",
            "INFO:stem:Error while receiving a control message (SocketClosed): empty socket content\n"
          ]
        },
        {
          "output_type": "stream",
          "name": "stdout",
          "text": [
            "Country: DK, google.com not accessible. Retrying with a new endpoint.\n",
            "Jul 23 10:02:12.000 [notice] Bootstrapped 0% (starting): Starting\n",
            "Jul 23 10:02:13.000 [notice] Bootstrapped 5% (conn): Connecting to a relay\n",
            "Jul 23 10:02:13.000 [notice] Bootstrapped 10% (conn_done): Connected to a relay\n",
            "Jul 23 10:02:13.000 [notice] Bootstrapped 14% (handshake): Handshaking with a relay\n",
            "Jul 23 10:02:14.000 [notice] Bootstrapped 15% (handshake_done): Handshake with a relay done\n",
            "Jul 23 10:02:14.000 [notice] Bootstrapped 75% (enough_dirinfo): Loaded enough directory info to build circuits\n",
            "Jul 23 10:02:14.000 [notice] Bootstrapped 89% (ap_handshake): Finishing handshake with a relay to build circuits\n",
            "Jul 23 10:02:15.000 [notice] Bootstrapped 90% (ap_handshake_done): Handshake finished with a relay to build circuits\n",
            "Jul 23 10:02:15.000 [notice] Bootstrapped 95% (circuit_create): Establishing a Tor circuit\n",
            "Jul 23 10:02:16.000 [notice] Bootstrapped 100% (done): Done\n"
          ]
        },
        {
          "output_type": "stream",
          "name": "stderr",
          "text": [
            "DEBUG:stem:GETCONF __owningcontrollerprocess (runtime: 0.3487)\n",
            "INFO:stem:Error while receiving a control message (SocketClosed): empty socket content\n",
            "INFO:stem:Error while receiving a control message (SocketClosed): empty socket content\n",
            "INFO:stem:Error while receiving a control message (SocketClosed): empty socket content\n",
            "INFO:stem:Error while receiving a control message (SocketClosed): empty socket content\n",
            "INFO:stem:Error while receiving a control message (SocketClosed): empty socket content\n"
          ]
        },
        {
          "output_type": "stream",
          "name": "stdout",
          "text": [
            "Country: DK, google.com not accessible. Retrying with a new endpoint.\n",
            "Jul 23 10:02:55.000 [notice] Bootstrapped 0% (starting): Starting\n",
            "Jul 23 10:02:55.000 [notice] Bootstrapped 5% (conn): Connecting to a relay\n",
            "Jul 23 10:02:55.000 [notice] Bootstrapped 10% (conn_done): Connected to a relay\n",
            "Jul 23 10:02:56.000 [notice] Bootstrapped 14% (handshake): Handshaking with a relay\n",
            "Jul 23 10:02:57.000 [notice] Bootstrapped 15% (handshake_done): Handshake with a relay done\n",
            "Jul 23 10:02:57.000 [notice] Bootstrapped 75% (enough_dirinfo): Loaded enough directory info to build circuits\n",
            "Jul 23 10:02:57.000 [notice] Bootstrapped 90% (ap_handshake_done): Handshake finished with a relay to build circuits\n",
            "Jul 23 10:02:57.000 [notice] Bootstrapped 95% (circuit_create): Establishing a Tor circuit\n",
            "Jul 23 10:02:59.000 [notice] Bootstrapped 100% (done): Done\n"
          ]
        },
        {
          "output_type": "stream",
          "name": "stderr",
          "text": [
            "DEBUG:stem:GETCONF __owningcontrollerprocess (runtime: 0.3485)\n",
            "INFO:stem:Error while receiving a control message (SocketClosed): empty socket content\n"
          ]
        },
        {
          "output_type": "stream",
          "name": "stdout",
          "text": [
            "Country: DK, google.com not accessible. Retrying with a new endpoint.\n",
            "Jul 23 10:03:40.000 [notice] Bootstrapped 0% (starting): Starting\n",
            "Jul 23 10:03:40.000 [notice] Bootstrapped 5% (conn): Connecting to a relay\n",
            "Jul 23 10:03:41.000 [notice] Bootstrapped 10% (conn_done): Connected to a relay\n",
            "Jul 23 10:03:41.000 [notice] Bootstrapped 14% (handshake): Handshaking with a relay\n",
            "Jul 23 10:03:41.000 [notice] Bootstrapped 15% (handshake_done): Handshake with a relay done\n",
            "Jul 23 10:03:41.000 [notice] Bootstrapped 75% (enough_dirinfo): Loaded enough directory info to build circuits\n",
            "Jul 23 10:03:42.000 [notice] Bootstrapped 85% (ap_conn_done): Connected to a relay to build circuits\n",
            "Jul 23 10:03:42.000 [notice] Bootstrapped 89% (ap_handshake): Finishing handshake with a relay to build circuits\n",
            "Jul 23 10:03:43.000 [notice] Bootstrapped 90% (ap_handshake_done): Handshake finished with a relay to build circuits\n",
            "Jul 23 10:03:43.000 [notice] Bootstrapped 95% (circuit_create): Establishing a Tor circuit\n",
            "Jul 23 10:03:43.000 [notice] Bootstrapped 100% (done): Done\n"
          ]
        },
        {
          "output_type": "stream",
          "name": "stderr",
          "text": [
            "DEBUG:stem:GETCONF __owningcontrollerprocess (runtime: 0.3487)\n",
            "INFO:stem:Error while receiving a control message (SocketClosed): received exception \"read of closed file\"\n"
          ]
        },
        {
          "output_type": "stream",
          "name": "stdout",
          "text": [
            "Country: DK, google.com Accessible: True, apple.com Accessible: True\n",
            "Jul 23 10:04:25.000 [notice] Bootstrapped 0% (starting): Starting\n",
            "Jul 23 10:04:26.000 [notice] Bootstrapped 5% (conn): Connecting to a relay\n",
            "Jul 23 10:04:26.000 [notice] Bootstrapped 10% (conn_done): Connected to a relay\n",
            "Jul 23 10:04:26.000 [notice] Bootstrapped 14% (handshake): Handshaking with a relay\n",
            "Jul 23 10:04:28.000 [notice] Bootstrapped 15% (handshake_done): Handshake with a relay done\n",
            "Jul 23 10:04:28.000 [notice] Bootstrapped 75% (enough_dirinfo): Loaded enough directory info to build circuits\n",
            "Jul 23 10:04:28.000 [notice] Bootstrapped 90% (ap_handshake_done): Handshake finished with a relay to build circuits\n",
            "Jul 23 10:04:28.000 [notice] Bootstrapped 95% (circuit_create): Establishing a Tor circuit\n",
            "Jul 23 10:04:29.000 [notice] Bootstrapped 100% (done): Done\n"
          ]
        },
        {
          "output_type": "stream",
          "name": "stderr",
          "text": [
            "DEBUG:stem:GETCONF __owningcontrollerprocess (runtime: 0.3487)\n",
            "INFO:stem:Error while receiving a control message (SocketClosed): received exception \"read of closed file\"\n",
            "INFO:stem:Error while receiving a control message (SocketClosed): received exception \"peek of closed file\"\n"
          ]
        },
        {
          "output_type": "stream",
          "name": "stdout",
          "text": [
            "Country: BE, google.com Accessible: True, apple.com Accessible: True\n",
            "Jul 23 10:05:10.000 [notice] Bootstrapped 0% (starting): Starting\n",
            "Jul 23 10:05:11.000 [notice] Bootstrapped 5% (conn): Connecting to a relay\n",
            "Jul 23 10:05:12.000 [notice] Bootstrapped 10% (conn_done): Connected to a relay\n",
            "Jul 23 10:05:12.000 [notice] Bootstrapped 14% (handshake): Handshaking with a relay\n",
            "Jul 23 10:05:13.000 [notice] Bootstrapped 15% (handshake_done): Handshake with a relay done\n",
            "Jul 23 10:05:13.000 [notice] Bootstrapped 75% (enough_dirinfo): Loaded enough directory info to build circuits\n",
            "Jul 23 10:05:13.000 [notice] Bootstrapped 90% (ap_handshake_done): Handshake finished with a relay to build circuits\n",
            "Jul 23 10:05:13.000 [notice] Bootstrapped 95% (circuit_create): Establishing a Tor circuit\n",
            "Jul 23 10:05:14.000 [notice] Bootstrapped 100% (done): Done\n"
          ]
        },
        {
          "output_type": "stream",
          "name": "stderr",
          "text": [
            "DEBUG:stem:GETCONF __owningcontrollerprocess (runtime: 0.3486)\n",
            "INFO:stem:Error while receiving a control message (SocketClosed): empty socket content\n",
            "INFO:stem:Error while receiving a control message (SocketClosed): received exception \"peek of closed file\"\n"
          ]
        },
        {
          "output_type": "stream",
          "name": "stdout",
          "text": [
            "Country: AT, google.com not accessible. Retrying with a new endpoint.\n",
            "Jul 23 10:05:54.000 [notice] Bootstrapped 0% (starting): Starting\n",
            "Jul 23 10:05:54.000 [notice] Bootstrapped 5% (conn): Connecting to a relay\n",
            "Jul 23 10:05:55.000 [notice] Bootstrapped 10% (conn_done): Connected to a relay\n",
            "Jul 23 10:05:55.000 [notice] Bootstrapped 14% (handshake): Handshaking with a relay\n",
            "Jul 23 10:05:56.000 [notice] Bootstrapped 15% (handshake_done): Handshake with a relay done\n",
            "Jul 23 10:05:56.000 [notice] Bootstrapped 75% (enough_dirinfo): Loaded enough directory info to build circuits\n",
            "Jul 23 10:05:56.000 [notice] Bootstrapped 85% (ap_conn_done): Connected to a relay to build circuits\n",
            "Jul 23 10:05:56.000 [notice] Bootstrapped 89% (ap_handshake): Finishing handshake with a relay to build circuits\n",
            "Jul 23 10:05:57.000 [notice] Bootstrapped 90% (ap_handshake_done): Handshake finished with a relay to build circuits\n",
            "Jul 23 10:05:57.000 [notice] Bootstrapped 95% (circuit_create): Establishing a Tor circuit\n",
            "Jul 23 10:05:58.000 [notice] Bootstrapped 100% (done): Done\n"
          ]
        },
        {
          "output_type": "stream",
          "name": "stderr",
          "text": [
            "DEBUG:stem:GETCONF __owningcontrollerprocess (runtime: 0.3492)\n",
            "INFO:stem:Error while receiving a control message (SocketClosed): empty socket content\n",
            "INFO:stem:Error while receiving a control message (SocketClosed): empty socket content\n",
            "INFO:stem:Error while receiving a control message (SocketClosed): empty socket content\n",
            "INFO:stem:Error while receiving a control message (SocketClosed): empty socket content\n",
            "INFO:stem:Error while receiving a control message (SocketClosed): empty socket content\n",
            "INFO:stem:Error while receiving a control message (SocketClosed): empty socket content\n"
          ]
        },
        {
          "output_type": "stream",
          "name": "stdout",
          "text": [
            "Country: AT, google.com not accessible. Retrying with a new endpoint.\n",
            "Jul 23 10:06:37.000 [notice] Bootstrapped 0% (starting): Starting\n",
            "Jul 23 10:06:37.000 [notice] Bootstrapped 5% (conn): Connecting to a relay\n",
            "Jul 23 10:06:37.000 [notice] Bootstrapped 10% (conn_done): Connected to a relay\n",
            "Jul 23 10:06:38.000 [notice] Bootstrapped 14% (handshake): Handshaking with a relay\n",
            "Jul 23 10:06:39.000 [notice] Bootstrapped 15% (handshake_done): Handshake with a relay done\n",
            "Jul 23 10:06:39.000 [notice] Bootstrapped 75% (enough_dirinfo): Loaded enough directory info to build circuits\n",
            "Jul 23 10:06:39.000 [notice] Bootstrapped 90% (ap_handshake_done): Handshake finished with a relay to build circuits\n",
            "Jul 23 10:06:39.000 [notice] Bootstrapped 95% (circuit_create): Establishing a Tor circuit\n",
            "Jul 23 10:06:40.000 [notice] Bootstrapped 100% (done): Done\n"
          ]
        },
        {
          "output_type": "stream",
          "name": "stderr",
          "text": [
            "DEBUG:stem:GETCONF __owningcontrollerprocess (runtime: 0.3488)\n",
            "INFO:stem:Error while receiving a control message (SocketClosed): received exception \"read of closed file\"\n"
          ]
        },
        {
          "output_type": "stream",
          "name": "stdout",
          "text": [
            "Country: AT, google.com not accessible. Retrying with a new endpoint.\n",
            "Jul 23 10:07:19.000 [notice] Bootstrapped 0% (starting): Starting\n",
            "Jul 23 10:07:20.000 [notice] Bootstrapped 5% (conn): Connecting to a relay\n",
            "Jul 23 10:07:21.000 [notice] Bootstrapped 10% (conn_done): Connected to a relay\n",
            "Jul 23 10:07:21.000 [notice] Bootstrapped 14% (handshake): Handshaking with a relay\n",
            "Jul 23 10:07:22.000 [notice] Bootstrapped 15% (handshake_done): Handshake with a relay done\n",
            "Jul 23 10:07:22.000 [notice] Bootstrapped 75% (enough_dirinfo): Loaded enough directory info to build circuits\n",
            "Jul 23 10:07:22.000 [notice] Bootstrapped 90% (ap_handshake_done): Handshake finished with a relay to build circuits\n",
            "Jul 23 10:07:22.000 [notice] Bootstrapped 95% (circuit_create): Establishing a Tor circuit\n",
            "Jul 23 10:07:23.000 [notice] Bootstrapped 100% (done): Done\n"
          ]
        },
        {
          "output_type": "stream",
          "name": "stderr",
          "text": [
            "DEBUG:stem:GETCONF __owningcontrollerprocess (runtime: 0.3487)\n",
            "INFO:stem:Error while receiving a control message (SocketClosed): empty socket content\n"
          ]
        },
        {
          "output_type": "stream",
          "name": "stdout",
          "text": [
            "Country: AT, google.com not accessible. Retrying with a new endpoint.\n",
            "Jul 23 10:08:05.000 [notice] Bootstrapped 0% (starting): Starting\n",
            "Jul 23 10:08:06.000 [notice] Bootstrapped 5% (conn): Connecting to a relay\n",
            "Jul 23 10:08:06.000 [notice] Bootstrapped 10% (conn_done): Connected to a relay\n",
            "Jul 23 10:08:06.000 [notice] Bootstrapped 14% (handshake): Handshaking with a relay\n",
            "Jul 23 10:08:06.000 [notice] Bootstrapped 15% (handshake_done): Handshake with a relay done\n",
            "Jul 23 10:08:06.000 [notice] Bootstrapped 75% (enough_dirinfo): Loaded enough directory info to build circuits\n",
            "Jul 23 10:08:07.000 [notice] Bootstrapped 80% (ap_conn): Connecting to a relay to build circuits\n",
            "Jul 23 10:08:07.000 [notice] Bootstrapped 85% (ap_conn_done): Connected to a relay to build circuits\n",
            "Jul 23 10:08:07.000 [notice] Bootstrapped 89% (ap_handshake): Finishing handshake with a relay to build circuits\n",
            "Jul 23 10:08:08.000 [notice] Bootstrapped 90% (ap_handshake_done): Handshake finished with a relay to build circuits\n",
            "Jul 23 10:08:08.000 [notice] Bootstrapped 95% (circuit_create): Establishing a Tor circuit\n",
            "Jul 23 10:08:09.000 [notice] Bootstrapped 100% (done): Done\n"
          ]
        },
        {
          "output_type": "stream",
          "name": "stderr",
          "text": [
            "DEBUG:stem:GETCONF __owningcontrollerprocess (runtime: 0.3488)\n",
            "INFO:stem:Error while receiving a control message (SocketClosed): empty socket content\n"
          ]
        },
        {
          "output_type": "stream",
          "name": "stdout",
          "text": [
            "Country: AT, google.com not accessible. Retrying with a new endpoint.\n",
            "Jul 23 10:08:48.000 [notice] Bootstrapped 0% (starting): Starting\n",
            "Jul 23 10:08:49.000 [notice] Bootstrapped 5% (conn): Connecting to a relay\n",
            "Jul 23 10:08:49.000 [notice] Bootstrapped 10% (conn_done): Connected to a relay\n",
            "Jul 23 10:08:49.000 [notice] Bootstrapped 14% (handshake): Handshaking with a relay\n",
            "Jul 23 10:08:49.000 [notice] Bootstrapped 15% (handshake_done): Handshake with a relay done\n",
            "Jul 23 10:08:49.000 [notice] Bootstrapped 75% (enough_dirinfo): Loaded enough directory info to build circuits\n",
            "Jul 23 10:08:50.000 [notice] Bootstrapped 80% (ap_conn): Connecting to a relay to build circuits\n",
            "Jul 23 10:08:50.000 [notice] Bootstrapped 85% (ap_conn_done): Connected to a relay to build circuits\n",
            "Jul 23 10:08:50.000 [notice] Bootstrapped 89% (ap_handshake): Finishing handshake with a relay to build circuits\n",
            "Jul 23 10:08:51.000 [notice] Bootstrapped 90% (ap_handshake_done): Handshake finished with a relay to build circuits\n",
            "Jul 23 10:08:51.000 [notice] Bootstrapped 95% (circuit_create): Establishing a Tor circuit\n",
            "Jul 23 10:08:52.000 [notice] Bootstrapped 100% (done): Done\n"
          ]
        },
        {
          "output_type": "stream",
          "name": "stderr",
          "text": [
            "DEBUG:stem:GETCONF __owningcontrollerprocess (runtime: 0.3486)\n",
            "INFO:stem:Error while receiving a control message (SocketClosed): received exception \"read of closed file\"\n"
          ]
        },
        {
          "output_type": "stream",
          "name": "stdout",
          "text": [
            "Country: PL, google.com not accessible. Retrying with a new endpoint.\n",
            "Jul 23 10:09:31.000 [notice] Bootstrapped 0% (starting): Starting\n",
            "Jul 23 10:09:31.000 [notice] Bootstrapped 5% (conn): Connecting to a relay\n",
            "Jul 23 10:09:33.000 [notice] Bootstrapped 10% (conn_done): Connected to a relay\n",
            "Jul 23 10:09:33.000 [notice] Bootstrapped 14% (handshake): Handshaking with a relay\n",
            "Jul 23 10:09:33.000 [notice] Bootstrapped 15% (handshake_done): Handshake with a relay done\n",
            "Jul 23 10:09:33.000 [notice] Bootstrapped 75% (enough_dirinfo): Loaded enough directory info to build circuits\n",
            "Jul 23 10:09:33.000 [notice] Bootstrapped 90% (ap_handshake_done): Handshake finished with a relay to build circuits\n",
            "Jul 23 10:09:33.000 [notice] Bootstrapped 95% (circuit_create): Establishing a Tor circuit\n",
            "Jul 23 10:09:34.000 [notice] Bootstrapped 100% (done): Done\n"
          ]
        },
        {
          "output_type": "stream",
          "name": "stderr",
          "text": [
            "DEBUG:stem:GETCONF __owningcontrollerprocess (runtime: 0.3487)\n",
            "INFO:stem:Error while receiving a control message (SocketClosed): received exception \"read of closed file\"\n",
            "INFO:stem:Error while receiving a control message (SocketClosed): received exception \"peek of closed file\"\n",
            "INFO:stem:Error while receiving a control message (SocketClosed): received exception \"peek of closed file\"\n"
          ]
        },
        {
          "output_type": "stream",
          "name": "stdout",
          "text": [
            "Country: PL, google.com Accessible: True, apple.com Accessible: True\n",
            "Jul 23 10:10:16.000 [notice] Bootstrapped 0% (starting): Starting\n",
            "Jul 23 10:10:16.000 [notice] Bootstrapped 5% (conn): Connecting to a relay\n",
            "Jul 23 10:10:17.000 [notice] Bootstrapped 10% (conn_done): Connected to a relay\n",
            "Jul 23 10:10:18.000 [notice] Bootstrapped 14% (handshake): Handshaking with a relay\n",
            "Jul 23 10:10:18.000 [notice] Bootstrapped 15% (handshake_done): Handshake with a relay done\n",
            "Jul 23 10:10:18.000 [notice] Bootstrapped 75% (enough_dirinfo): Loaded enough directory info to build circuits\n",
            "Jul 23 10:10:18.000 [notice] Bootstrapped 90% (ap_handshake_done): Handshake finished with a relay to build circuits\n",
            "Jul 23 10:10:18.000 [notice] Bootstrapped 95% (circuit_create): Establishing a Tor circuit\n",
            "Jul 23 10:10:19.000 [notice] Bootstrapped 100% (done): Done\n"
          ]
        },
        {
          "output_type": "stream",
          "name": "stderr",
          "text": [
            "DEBUG:stem:GETCONF __owningcontrollerprocess (runtime: 0.3485)\n",
            "INFO:stem:Error while receiving a control message (SocketClosed): received exception \"read of closed file\"\n",
            "INFO:stem:Error while receiving a control message (SocketClosed): received exception \"peek of closed file\"\n"
          ]
        },
        {
          "output_type": "stream",
          "name": "stdout",
          "text": [
            "Country: CZ, google.com not accessible. Retrying with a new endpoint.\n",
            "Jul 23 10:10:59.000 [notice] Bootstrapped 0% (starting): Starting\n",
            "Jul 23 10:10:59.000 [notice] Bootstrapped 5% (conn): Connecting to a relay\n",
            "Jul 23 10:11:01.000 [notice] Bootstrapped 10% (conn_done): Connected to a relay\n",
            "Jul 23 10:11:01.000 [notice] Bootstrapped 14% (handshake): Handshaking with a relay\n",
            "Jul 23 10:11:02.000 [notice] Bootstrapped 15% (handshake_done): Handshake with a relay done\n",
            "Jul 23 10:11:02.000 [notice] Bootstrapped 75% (enough_dirinfo): Loaded enough directory info to build circuits\n",
            "Jul 23 10:11:02.000 [notice] Bootstrapped 90% (ap_handshake_done): Handshake finished with a relay to build circuits\n",
            "Jul 23 10:11:02.000 [notice] Bootstrapped 95% (circuit_create): Establishing a Tor circuit\n",
            "Jul 23 10:11:04.000 [notice] Bootstrapped 100% (done): Done\n"
          ]
        },
        {
          "output_type": "stream",
          "name": "stderr",
          "text": [
            "DEBUG:stem:GETCONF __owningcontrollerprocess (runtime: 0.3487)\n",
            "INFO:stem:Error while receiving a control message (SocketClosed): empty socket content\n"
          ]
        },
        {
          "output_type": "stream",
          "name": "stdout",
          "text": [
            "Country: CZ, google.com Accessible: True, apple.com Accessible: True\n",
            "Jul 23 10:11:45.000 [notice] Bootstrapped 0% (starting): Starting\n",
            "Jul 23 10:11:46.000 [notice] Bootstrapped 5% (conn): Connecting to a relay\n",
            "Jul 23 10:11:47.000 [notice] Bootstrapped 10% (conn_done): Connected to a relay\n",
            "Jul 23 10:11:47.000 [notice] Bootstrapped 14% (handshake): Handshaking with a relay\n",
            "Jul 23 10:11:48.000 [notice] Bootstrapped 15% (handshake_done): Handshake with a relay done\n",
            "Jul 23 10:11:48.000 [notice] Bootstrapped 75% (enough_dirinfo): Loaded enough directory info to build circuits\n",
            "Jul 23 10:11:48.000 [notice] Bootstrapped 90% (ap_handshake_done): Handshake finished with a relay to build circuits\n",
            "Jul 23 10:11:48.000 [notice] Bootstrapped 95% (circuit_create): Establishing a Tor circuit\n",
            "Jul 23 10:11:49.000 [notice] Bootstrapped 100% (done): Done\n"
          ]
        },
        {
          "output_type": "stream",
          "name": "stderr",
          "text": [
            "DEBUG:stem:GETCONF __owningcontrollerprocess (runtime: 0.3490)\n",
            "INFO:stem:Error while receiving a control message (SocketClosed): received exception \"read of closed file\"\n"
          ]
        },
        {
          "output_type": "stream",
          "name": "stdout",
          "text": [
            "Country: RO, google.com Accessible: True, apple.com Accessible: True\n",
            "Jul 23 10:12:31.000 [notice] Bootstrapped 0% (starting): Starting\n",
            "Jul 23 10:12:32.000 [notice] Bootstrapped 5% (conn): Connecting to a relay\n",
            "Jul 23 10:12:33.000 [notice] Bootstrapped 10% (conn_done): Connected to a relay\n",
            "Jul 23 10:12:33.000 [notice] Bootstrapped 14% (handshake): Handshaking with a relay\n",
            "Jul 23 10:12:34.000 [notice] Bootstrapped 15% (handshake_done): Handshake with a relay done\n",
            "Jul 23 10:12:34.000 [notice] Bootstrapped 75% (enough_dirinfo): Loaded enough directory info to build circuits\n",
            "Jul 23 10:12:34.000 [notice] Bootstrapped 90% (ap_handshake_done): Handshake finished with a relay to build circuits\n",
            "Jul 23 10:12:34.000 [notice] Bootstrapped 95% (circuit_create): Establishing a Tor circuit\n",
            "Jul 23 10:12:35.000 [notice] Bootstrapped 100% (done): Done\n"
          ]
        },
        {
          "output_type": "stream",
          "name": "stderr",
          "text": [
            "DEBUG:stem:GETCONF __owningcontrollerprocess (runtime: 0.3488)\n",
            "INFO:stem:Error while receiving a control message (SocketClosed): empty socket content\n",
            "INFO:stem:Error while receiving a control message (SocketClosed): empty socket content\n",
            "INFO:stem:Error while receiving a control message (SocketClosed): empty socket content\n",
            "INFO:stem:Error while receiving a control message (SocketClosed): empty socket content\n",
            "INFO:stem:Error while receiving a control message (SocketClosed): empty socket content\n",
            "INFO:stem:Error while receiving a control message (SocketClosed): empty socket content\n",
            "INFO:stem:Error while receiving a control message (SocketClosed): empty socket content\n"
          ]
        },
        {
          "output_type": "stream",
          "name": "stdout",
          "text": [
            "Country: UA, google.com Accessible: True, apple.com Accessible: True\n",
            "Jul 23 10:13:18.000 [notice] Bootstrapped 0% (starting): Starting\n",
            "Jul 23 10:13:19.000 [notice] Bootstrapped 5% (conn): Connecting to a relay\n",
            "Jul 23 10:13:19.000 [notice] Bootstrapped 10% (conn_done): Connected to a relay\n",
            "Jul 23 10:13:19.000 [notice] Bootstrapped 14% (handshake): Handshaking with a relay\n",
            "Jul 23 10:13:20.000 [notice] Bootstrapped 15% (handshake_done): Handshake with a relay done\n",
            "Jul 23 10:13:20.000 [notice] Bootstrapped 75% (enough_dirinfo): Loaded enough directory info to build circuits\n",
            "Jul 23 10:13:20.000 [notice] Bootstrapped 85% (ap_conn_done): Connected to a relay to build circuits\n",
            "Jul 23 10:13:20.000 [notice] Bootstrapped 89% (ap_handshake): Finishing handshake with a relay to build circuits\n",
            "Jul 23 10:13:21.000 [notice] Bootstrapped 90% (ap_handshake_done): Handshake finished with a relay to build circuits\n",
            "Jul 23 10:13:21.000 [notice] Bootstrapped 95% (circuit_create): Establishing a Tor circuit\n",
            "Jul 23 10:13:22.000 [notice] Bootstrapped 100% (done): Done\n"
          ]
        },
        {
          "output_type": "stream",
          "name": "stderr",
          "text": [
            "DEBUG:stem:GETCONF __owningcontrollerprocess (runtime: 0.3488)\n",
            "INFO:stem:Error while receiving a control message (SocketClosed): empty socket content\n",
            "INFO:stem:Error while receiving a control message (SocketClosed): empty socket content\n",
            "INFO:stem:Error while receiving a control message (SocketClosed): empty socket content\n",
            "INFO:stem:Error while receiving a control message (SocketClosed): empty socket content\n",
            "INFO:stem:Error while receiving a control message (SocketClosed): empty socket content\n",
            "INFO:stem:Error while receiving a control message (SocketClosed): empty socket content\n"
          ]
        },
        {
          "output_type": "stream",
          "name": "stdout",
          "text": [
            "Country: HU, google.com Accessible: True, apple.com Accessible: True\n",
            "Jul 23 10:14:07.000 [notice] Bootstrapped 0% (starting): Starting\n",
            "Jul 23 10:14:08.000 [notice] Bootstrapped 5% (conn): Connecting to a relay\n",
            "Country: GR, Error: Timeout occurred. Retrying with a new endpoint.\n",
            "Jul 23 10:19:08.000 [notice] Bootstrapped 0% (starting): Starting\n",
            "Jul 23 10:19:08.000 [notice] Bootstrapped 5% (conn): Connecting to a relay\n",
            "Jul 23 10:19:09.000 [notice] Bootstrapped 10% (conn_done): Connected to a relay\n",
            "Jul 23 10:19:15.000 [notice] Bootstrapped 14% (handshake): Handshaking with a relay\n",
            "Jul 23 10:19:15.000 [notice] Bootstrapped 15% (handshake_done): Handshake with a relay done\n",
            "Jul 23 10:19:15.000 [notice] Bootstrapped 45% (requesting_descriptors): Asking for relay descriptors\n",
            "Country: GR, Error: Timeout occurred. Retrying with a new endpoint.\n",
            "Jul 23 10:24:08.000 [notice] Bootstrapped 0% (starting): Starting\n",
            "Jul 23 10:24:08.000 [notice] Bootstrapped 5% (conn): Connecting to a relay\n",
            "Country: GR, Error: Timeout occurred. Retrying with a new endpoint.\n",
            "Jul 23 10:29:08.000 [notice] Bootstrapped 0% (starting): Starting\n",
            "Jul 23 10:29:08.000 [notice] Bootstrapped 5% (conn): Connecting to a relay\n",
            "Country: GR, Error: Timeout occurred. Retrying with a new endpoint.\n",
            "Jul 23 10:34:08.000 [notice] Bootstrapped 0% (starting): Starting\n",
            "Jul 23 10:34:08.000 [notice] Bootstrapped 5% (conn): Connecting to a relay\n",
            "Country: GR, Error: Timeout occurred. Retrying with a new endpoint.\n",
            "Jul 23 10:39:08.000 [notice] Bootstrapped 0% (starting): Starting\n",
            "Jul 23 10:39:08.000 [notice] Bootstrapped 5% (conn): Connecting to a relay\n",
            "Jul 23 10:39:08.000 [notice] Bootstrapped 10% (conn_done): Connected to a relay\n",
            "Jul 23 10:39:08.000 [notice] Bootstrapped 14% (handshake): Handshaking with a relay\n",
            "Jul 23 10:39:09.000 [notice] Bootstrapped 15% (handshake_done): Handshake with a relay done\n",
            "Jul 23 10:39:09.000 [notice] Bootstrapped 75% (enough_dirinfo): Loaded enough directory info to build circuits\n",
            "Jul 23 10:39:09.000 [notice] Bootstrapped 80% (ap_conn): Connecting to a relay to build circuits\n",
            "Jul 23 10:39:09.000 [notice] Bootstrapped 85% (ap_conn_done): Connected to a relay to build circuits\n",
            "Jul 23 10:39:09.000 [notice] Bootstrapped 89% (ap_handshake): Finishing handshake with a relay to build circuits\n",
            "Jul 23 10:39:10.000 [notice] Bootstrapped 90% (ap_handshake_done): Handshake finished with a relay to build circuits\n",
            "Jul 23 10:39:10.000 [notice] Bootstrapped 95% (circuit_create): Establishing a Tor circuit\n",
            "Jul 23 10:39:11.000 [notice] Bootstrapped 100% (done): Done\n"
          ]
        },
        {
          "output_type": "stream",
          "name": "stderr",
          "text": [
            "DEBUG:stem:GETCONF __owningcontrollerprocess (runtime: 0.3488)\n",
            "INFO:stem:Error while receiving a control message (SocketClosed): empty socket content\n"
          ]
        },
        {
          "output_type": "stream",
          "name": "stdout",
          "text": [
            "Country: BG, google.com Accessible: True, apple.com Accessible: True\n",
            "Jul 23 10:39:54.000 [notice] Bootstrapped 0% (starting): Starting\n",
            "Jul 23 10:39:54.000 [notice] Bootstrapped 5% (conn): Connecting to a relay\n",
            "Jul 23 10:39:55.000 [notice] Bootstrapped 10% (conn_done): Connected to a relay\n",
            "Jul 23 10:39:56.000 [notice] Bootstrapped 14% (handshake): Handshaking with a relay\n",
            "Jul 23 10:39:56.000 [notice] Bootstrapped 15% (handshake_done): Handshake with a relay done\n",
            "Jul 23 10:39:56.000 [notice] Bootstrapped 75% (enough_dirinfo): Loaded enough directory info to build circuits\n",
            "Jul 23 10:39:56.000 [notice] Bootstrapped 90% (ap_handshake_done): Handshake finished with a relay to build circuits\n",
            "Jul 23 10:39:56.000 [notice] Bootstrapped 95% (circuit_create): Establishing a Tor circuit\n",
            "Jul 23 10:39:57.000 [notice] Bootstrapped 100% (done): Done\n"
          ]
        },
        {
          "output_type": "stream",
          "name": "stderr",
          "text": [
            "DEBUG:stem:GETCONF __owningcontrollerprocess (runtime: 0.3487)\n",
            "INFO:stem:Error while receiving a control message (SocketClosed): empty socket content\n"
          ]
        },
        {
          "output_type": "stream",
          "name": "stdout",
          "text": [
            "Country: TR, google.com Accessible: True, apple.com Accessible: True\n",
            "Jul 23 10:40:40.000 [notice] Bootstrapped 0% (starting): Starting\n",
            "Jul 23 10:40:41.000 [notice] Bootstrapped 5% (conn): Connecting to a relay\n",
            "Jul 23 10:40:42.000 [notice] Bootstrapped 10% (conn_done): Connected to a relay\n",
            "Jul 23 10:40:42.000 [notice] Bootstrapped 14% (handshake): Handshaking with a relay\n",
            "Jul 23 10:40:43.000 [notice] Bootstrapped 15% (handshake_done): Handshake with a relay done\n",
            "Jul 23 10:40:43.000 [notice] Bootstrapped 75% (enough_dirinfo): Loaded enough directory info to build circuits\n",
            "Jul 23 10:40:43.000 [notice] Bootstrapped 90% (ap_handshake_done): Handshake finished with a relay to build circuits\n",
            "Jul 23 10:40:43.000 [notice] Bootstrapped 95% (circuit_create): Establishing a Tor circuit\n",
            "Jul 23 10:40:44.000 [notice] Bootstrapped 100% (done): Done\n"
          ]
        },
        {
          "output_type": "stream",
          "name": "stderr",
          "text": [
            "DEBUG:stem:GETCONF __owningcontrollerprocess (runtime: 0.3488)\n",
            "INFO:stem:Error while receiving a control message (SocketClosed): received exception \"read of closed file\"\n"
          ]
        },
        {
          "output_type": "stream",
          "name": "stdout",
          "text": [
            "Country: IL, google.com not accessible. Retrying with a new endpoint.\n",
            "Jul 23 10:41:24.000 [notice] Bootstrapped 0% (starting): Starting\n",
            "Jul 23 10:41:24.000 [notice] Bootstrapped 5% (conn): Connecting to a relay\n",
            "Jul 23 10:41:25.000 [notice] Bootstrapped 10% (conn_done): Connected to a relay\n",
            "Jul 23 10:41:26.000 [notice] Bootstrapped 14% (handshake): Handshaking with a relay\n",
            "Jul 23 10:41:26.000 [notice] Bootstrapped 15% (handshake_done): Handshake with a relay done\n",
            "Jul 23 10:41:26.000 [notice] Bootstrapped 75% (enough_dirinfo): Loaded enough directory info to build circuits\n",
            "Jul 23 10:41:26.000 [notice] Bootstrapped 90% (ap_handshake_done): Handshake finished with a relay to build circuits\n",
            "Jul 23 10:41:26.000 [notice] Bootstrapped 95% (circuit_create): Establishing a Tor circuit\n",
            "Jul 23 10:41:27.000 [notice] Bootstrapped 100% (done): Done\n"
          ]
        },
        {
          "output_type": "stream",
          "name": "stderr",
          "text": [
            "DEBUG:stem:GETCONF __owningcontrollerprocess (runtime: 0.3489)\n",
            "INFO:stem:Error while receiving a control message (SocketClosed): empty socket content\n"
          ]
        },
        {
          "output_type": "stream",
          "name": "stdout",
          "text": [
            "Country: IL, google.com not accessible. Retrying with a new endpoint.\n",
            "Jul 23 10:42:06.000 [notice] Bootstrapped 0% (starting): Starting\n",
            "Jul 23 10:42:07.000 [notice] Bootstrapped 5% (conn): Connecting to a relay\n",
            "Jul 23 10:42:08.000 [notice] Bootstrapped 10% (conn_done): Connected to a relay\n",
            "Jul 23 10:42:09.000 [notice] Bootstrapped 14% (handshake): Handshaking with a relay\n",
            "Jul 23 10:42:10.000 [notice] Bootstrapped 15% (handshake_done): Handshake with a relay done\n",
            "Jul 23 10:42:10.000 [notice] Bootstrapped 75% (enough_dirinfo): Loaded enough directory info to build circuits\n",
            "Jul 23 10:42:10.000 [notice] Bootstrapped 90% (ap_handshake_done): Handshake finished with a relay to build circuits\n",
            "Jul 23 10:42:10.000 [notice] Bootstrapped 95% (circuit_create): Establishing a Tor circuit\n",
            "Jul 23 10:42:11.000 [notice] Bootstrapped 100% (done): Done\n"
          ]
        },
        {
          "output_type": "stream",
          "name": "stderr",
          "text": [
            "DEBUG:stem:GETCONF __owningcontrollerprocess (runtime: 0.3487)\n",
            "INFO:stem:Error while receiving a control message (SocketClosed): empty socket content\n"
          ]
        },
        {
          "output_type": "stream",
          "name": "stdout",
          "text": [
            "Country: IL, google.com not accessible. Retrying with a new endpoint.\n",
            "Jul 23 10:42:50.000 [notice] Bootstrapped 0% (starting): Starting\n",
            "Jul 23 10:42:51.000 [notice] Bootstrapped 5% (conn): Connecting to a relay\n",
            "Jul 23 10:42:52.000 [notice] Bootstrapped 10% (conn_done): Connected to a relay\n",
            "Jul 23 10:42:52.000 [notice] Bootstrapped 14% (handshake): Handshaking with a relay\n",
            "Jul 23 10:42:53.000 [notice] Bootstrapped 15% (handshake_done): Handshake with a relay done\n",
            "Jul 23 10:42:53.000 [notice] Bootstrapped 75% (enough_dirinfo): Loaded enough directory info to build circuits\n",
            "Jul 23 10:42:53.000 [notice] Bootstrapped 90% (ap_handshake_done): Handshake finished with a relay to build circuits\n",
            "Jul 23 10:42:53.000 [notice] Bootstrapped 95% (circuit_create): Establishing a Tor circuit\n",
            "Jul 23 10:42:53.000 [notice] Bootstrapped 100% (done): Done\n"
          ]
        },
        {
          "output_type": "stream",
          "name": "stderr",
          "text": [
            "DEBUG:stem:GETCONF __owningcontrollerprocess (runtime: 0.3488)\n",
            "INFO:stem:Error while receiving a control message (SocketClosed): received exception \"read of closed file\"\n"
          ]
        },
        {
          "output_type": "stream",
          "name": "stdout",
          "text": [
            "Country: IL, google.com not accessible. Retrying with a new endpoint.\n",
            "Jul 23 10:43:33.000 [notice] Bootstrapped 0% (starting): Starting\n",
            "Jul 23 10:43:33.000 [notice] Bootstrapped 5% (conn): Connecting to a relay\n",
            "Jul 23 10:43:34.000 [notice] Bootstrapped 10% (conn_done): Connected to a relay\n",
            "Jul 23 10:43:34.000 [notice] Bootstrapped 14% (handshake): Handshaking with a relay\n",
            "Jul 23 10:43:34.000 [notice] Bootstrapped 15% (handshake_done): Handshake with a relay done\n",
            "Jul 23 10:43:34.000 [notice] Bootstrapped 75% (enough_dirinfo): Loaded enough directory info to build circuits\n",
            "Jul 23 10:43:34.000 [notice] Bootstrapped 80% (ap_conn): Connecting to a relay to build circuits\n",
            "Jul 23 10:43:35.000 [notice] Bootstrapped 85% (ap_conn_done): Connected to a relay to build circuits\n",
            "Jul 23 10:43:35.000 [notice] Bootstrapped 89% (ap_handshake): Finishing handshake with a relay to build circuits\n",
            "Jul 23 10:43:36.000 [notice] Bootstrapped 90% (ap_handshake_done): Handshake finished with a relay to build circuits\n",
            "Jul 23 10:43:36.000 [notice] Bootstrapped 95% (circuit_create): Establishing a Tor circuit\n",
            "Jul 23 10:43:36.000 [notice] Bootstrapped 100% (done): Done\n"
          ]
        },
        {
          "output_type": "stream",
          "name": "stderr",
          "text": [
            "DEBUG:stem:GETCONF __owningcontrollerprocess (runtime: 0.3491)\n",
            "INFO:stem:Error while receiving a control message (SocketClosed): received exception \"read of closed file\"\n"
          ]
        },
        {
          "output_type": "stream",
          "name": "stdout",
          "text": [
            "Country: IL, google.com not accessible. Retrying with a new endpoint.\n",
            "Jul 23 10:44:15.000 [notice] Bootstrapped 0% (starting): Starting\n",
            "Jul 23 10:44:16.000 [notice] Bootstrapped 5% (conn): Connecting to a relay\n",
            "Jul 23 10:44:17.000 [notice] Bootstrapped 10% (conn_done): Connected to a relay\n",
            "Jul 23 10:44:17.000 [notice] Bootstrapped 14% (handshake): Handshaking with a relay\n",
            "Jul 23 10:44:18.000 [notice] Bootstrapped 15% (handshake_done): Handshake with a relay done\n",
            "Jul 23 10:44:18.000 [notice] Bootstrapped 75% (enough_dirinfo): Loaded enough directory info to build circuits\n",
            "Jul 23 10:44:18.000 [notice] Bootstrapped 90% (ap_handshake_done): Handshake finished with a relay to build circuits\n",
            "Jul 23 10:44:18.000 [notice] Bootstrapped 95% (circuit_create): Establishing a Tor circuit\n",
            "Jul 23 10:44:20.000 [notice] Bootstrapped 100% (done): Done\n"
          ]
        },
        {
          "output_type": "stream",
          "name": "stderr",
          "text": [
            "DEBUG:stem:GETCONF __owningcontrollerprocess (runtime: 0.3487)\n",
            "INFO:stem:Error while receiving a control message (SocketClosed): empty socket content\n"
          ]
        },
        {
          "output_type": "stream",
          "name": "stdout",
          "text": [
            "Country: ZA, google.com Accessible: True, apple.com Accessible: True\n",
            "Jul 23 10:45:05.000 [notice] Bootstrapped 0% (starting): Starting\n",
            "Jul 23 10:45:06.000 [notice] Bootstrapped 5% (conn): Connecting to a relay\n",
            "Jul 23 10:45:07.000 [notice] Bootstrapped 10% (conn_done): Connected to a relay\n",
            "Jul 23 10:45:07.000 [notice] Bootstrapped 14% (handshake): Handshaking with a relay\n",
            "Jul 23 10:45:08.000 [notice] Bootstrapped 15% (handshake_done): Handshake with a relay done\n",
            "Jul 23 10:45:08.000 [notice] Bootstrapped 75% (enough_dirinfo): Loaded enough directory info to build circuits\n",
            "Jul 23 10:45:08.000 [notice] Bootstrapped 90% (ap_handshake_done): Handshake finished with a relay to build circuits\n",
            "Jul 23 10:45:08.000 [notice] Bootstrapped 95% (circuit_create): Establishing a Tor circuit\n",
            "Jul 23 10:45:09.000 [notice] Bootstrapped 100% (done): Done\n"
          ]
        },
        {
          "output_type": "stream",
          "name": "stderr",
          "text": [
            "DEBUG:stem:GETCONF __owningcontrollerprocess (runtime: 0.3493)\n",
            "INFO:stem:Error while receiving a control message (SocketClosed): received exception \"read of closed file\"\n",
            "INFO:stem:Error while receiving a control message (SocketClosed): received exception \"peek of closed file\"\n",
            "INFO:stem:Error while receiving a control message (SocketClosed): received exception \"peek of closed file\"\n",
            "INFO:stem:Error while receiving a control message (SocketClosed): received exception \"peek of closed file\"\n",
            "INFO:stem:Error while receiving a control message (SocketClosed): received exception \"peek of closed file\"\n",
            "INFO:stem:Error while receiving a control message (SocketClosed): received exception \"peek of closed file\"\n",
            "INFO:stem:Error while receiving a control message (SocketClosed): received exception \"peek of closed file\"\n"
          ]
        },
        {
          "output_type": "stream",
          "name": "stdout",
          "text": [
            "Country: SG, google.com Accessible: True, apple.com Accessible: True\n",
            "Jul 23 10:45:52.000 [notice] Bootstrapped 0% (starting): Starting\n",
            "Jul 23 10:45:53.000 [notice] Bootstrapped 5% (conn): Connecting to a relay\n",
            "Jul 23 10:45:54.000 [notice] Bootstrapped 10% (conn_done): Connected to a relay\n",
            "Jul 23 10:45:54.000 [notice] Bootstrapped 14% (handshake): Handshaking with a relay\n",
            "Jul 23 10:45:55.000 [notice] Bootstrapped 15% (handshake_done): Handshake with a relay done\n",
            "Jul 23 10:45:55.000 [notice] Bootstrapped 75% (enough_dirinfo): Loaded enough directory info to build circuits\n",
            "Jul 23 10:45:55.000 [notice] Bootstrapped 90% (ap_handshake_done): Handshake finished with a relay to build circuits\n",
            "Jul 23 10:45:55.000 [notice] Bootstrapped 95% (circuit_create): Establishing a Tor circuit\n",
            "Jul 23 10:45:56.000 [notice] Bootstrapped 100% (done): Done\n"
          ]
        },
        {
          "output_type": "stream",
          "name": "stderr",
          "text": [
            "DEBUG:stem:GETCONF __owningcontrollerprocess (runtime: 0.3489)\n",
            "INFO:stem:Error while receiving a control message (SocketClosed): empty socket content\n"
          ]
        },
        {
          "output_type": "stream",
          "name": "stdout",
          "text": [
            "Country: HK, google.com Accessible: True, apple.com Accessible: True\n",
            "Jul 23 10:46:39.000 [notice] Bootstrapped 0% (starting): Starting\n",
            "Jul 23 10:46:40.000 [notice] Bootstrapped 5% (conn): Connecting to a relay\n",
            "Jul 23 10:46:40.000 [notice] Bootstrapped 10% (conn_done): Connected to a relay\n",
            "Jul 23 10:46:41.000 [notice] Bootstrapped 14% (handshake): Handshaking with a relay\n",
            "Jul 23 10:46:42.000 [notice] Bootstrapped 15% (handshake_done): Handshake with a relay done\n",
            "Jul 23 10:46:42.000 [notice] Bootstrapped 75% (enough_dirinfo): Loaded enough directory info to build circuits\n",
            "Jul 23 10:46:42.000 [notice] Bootstrapped 90% (ap_handshake_done): Handshake finished with a relay to build circuits\n",
            "Jul 23 10:46:42.000 [notice] Bootstrapped 95% (circuit_create): Establishing a Tor circuit\n",
            "Jul 23 10:46:43.000 [notice] Bootstrapped 100% (done): Done\n"
          ]
        },
        {
          "output_type": "stream",
          "name": "stderr",
          "text": [
            "DEBUG:stem:GETCONF __owningcontrollerprocess (runtime: 0.3490)\n",
            "INFO:stem:Error while receiving a control message (SocketClosed): received exception \"read of closed file\"\n"
          ]
        },
        {
          "output_type": "stream",
          "name": "stdout",
          "text": [
            "Country: MY, google.com Accessible: True, apple.com Accessible: True\n",
            "Jul 23 10:47:26.000 [notice] Bootstrapped 0% (starting): Starting\n",
            "Jul 23 10:47:27.000 [notice] Bootstrapped 5% (conn): Connecting to a relay\n",
            "Jul 23 10:47:28.000 [notice] Bootstrapped 10% (conn_done): Connected to a relay\n",
            "Jul 23 10:47:28.000 [notice] Bootstrapped 14% (handshake): Handshaking with a relay\n",
            "Jul 23 10:47:29.000 [notice] Bootstrapped 15% (handshake_done): Handshake with a relay done\n",
            "Jul 23 10:47:29.000 [notice] Bootstrapped 75% (enough_dirinfo): Loaded enough directory info to build circuits\n",
            "Jul 23 10:47:29.000 [notice] Bootstrapped 90% (ap_handshake_done): Handshake finished with a relay to build circuits\n",
            "Jul 23 10:47:29.000 [notice] Bootstrapped 95% (circuit_create): Establishing a Tor circuit\n",
            "Jul 23 10:47:30.000 [notice] Bootstrapped 100% (done): Done\n"
          ]
        },
        {
          "output_type": "stream",
          "name": "stderr",
          "text": [
            "DEBUG:stem:GETCONF __owningcontrollerprocess (runtime: 0.3489)\n",
            "INFO:stem:Error while receiving a control message (SocketClosed): received exception \"read of closed file\"\n"
          ]
        },
        {
          "output_type": "stream",
          "name": "stdout",
          "text": [
            "Country: ID, google.com Accessible: True, apple.com Accessible: True\n",
            "Jul 23 10:48:13.000 [notice] Bootstrapped 0% (starting): Starting\n",
            "Jul 23 10:48:14.000 [notice] Bootstrapped 5% (conn): Connecting to a relay\n",
            "Jul 23 10:48:14.000 [notice] Bootstrapped 10% (conn_done): Connected to a relay\n",
            "Jul 23 10:48:14.000 [notice] Bootstrapped 14% (handshake): Handshaking with a relay\n",
            "Jul 23 10:48:15.000 [notice] Bootstrapped 15% (handshake_done): Handshake with a relay done\n",
            "Jul 23 10:48:15.000 [notice] Bootstrapped 45% (requesting_descriptors): Asking for relay descriptors\n",
            "Jul 23 10:48:15.000 [notice] Bootstrapped 50% (loading_descriptors): Loading relay descriptors\n",
            "Country: PH, Error: Timeout occurred. Retrying with a new endpoint.\n",
            "Jul 23 10:53:13.000 [notice] Bootstrapped 0% (starting): Starting\n",
            "Jul 23 10:53:13.000 [notice] Bootstrapped 5% (conn): Connecting to a relay\n",
            "Country: PH, Error: Timeout occurred. Retrying with a new endpoint.\n",
            "Jul 23 10:58:13.000 [notice] Bootstrapped 0% (starting): Starting\n",
            "Jul 23 10:58:13.000 [notice] Bootstrapped 5% (conn): Connecting to a relay\n",
            "Country: PH, Error: Timeout occurred. Retrying with a new endpoint.\n",
            "Jul 23 11:03:13.000 [notice] Bootstrapped 0% (starting): Starting\n",
            "Jul 23 11:03:13.000 [notice] Bootstrapped 5% (conn): Connecting to a relay\n",
            "Country: PH, Error: Timeout occurred. Retrying with a new endpoint.\n",
            "Jul 23 11:08:13.000 [notice] Bootstrapped 0% (starting): Starting\n",
            "Jul 23 11:08:13.000 [notice] Bootstrapped 5% (conn): Connecting to a relay\n",
            "Jul 23 11:08:13.000 [notice] Bootstrapped 10% (conn_done): Connected to a relay\n",
            "Jul 23 11:08:14.000 [notice] Bootstrapped 14% (handshake): Handshaking with a relay\n",
            "Jul 23 11:08:14.000 [notice] Bootstrapped 15% (handshake_done): Handshake with a relay done\n",
            "Jul 23 11:08:14.000 [notice] Bootstrapped 45% (requesting_descriptors): Asking for relay descriptors\n",
            "Country: PH, Error: Timeout occurred. Retrying with a new endpoint.\n",
            "Jul 23 11:13:13.000 [notice] Bootstrapped 0% (starting): Starting\n",
            "Jul 23 11:13:13.000 [notice] Bootstrapped 5% (conn): Connecting to a relay\n",
            "Jul 23 11:13:13.000 [notice] Bootstrapped 10% (conn_done): Connected to a relay\n",
            "Jul 23 11:13:15.000 [notice] Bootstrapped 14% (handshake): Handshaking with a relay\n",
            "Jul 23 11:13:15.000 [notice] Bootstrapped 15% (handshake_done): Handshake with a relay done\n",
            "Jul 23 11:13:15.000 [notice] Bootstrapped 75% (enough_dirinfo): Loaded enough directory info to build circuits\n",
            "Jul 23 11:13:15.000 [notice] Bootstrapped 90% (ap_handshake_done): Handshake finished with a relay to build circuits\n",
            "Jul 23 11:13:15.000 [notice] Bootstrapped 95% (circuit_create): Establishing a Tor circuit\n",
            "Jul 23 11:13:17.000 [notice] Bootstrapped 100% (done): Done\n"
          ]
        },
        {
          "output_type": "stream",
          "name": "stderr",
          "text": [
            "DEBUG:stem:GETCONF __owningcontrollerprocess (runtime: 0.3485)\n",
            "INFO:stem:Error while receiving a control message (SocketClosed): received exception \"read of closed file\"\n"
          ]
        },
        {
          "output_type": "stream",
          "name": "stdout",
          "text": [
            "Country: VN, google.com Accessible: True, apple.com Accessible: True\n",
            "Jul 23 11:14:02.000 [notice] Bootstrapped 0% (starting): Starting\n",
            "Jul 23 11:14:02.000 [notice] Bootstrapped 5% (conn): Connecting to a relay\n",
            "Jul 23 11:14:03.000 [notice] Bootstrapped 10% (conn_done): Connected to a relay\n",
            "Jul 23 11:14:04.000 [notice] Bootstrapped 14% (handshake): Handshaking with a relay\n",
            "Jul 23 11:14:04.000 [notice] Bootstrapped 15% (handshake_done): Handshake with a relay done\n",
            "Jul 23 11:14:04.000 [notice] Bootstrapped 75% (enough_dirinfo): Loaded enough directory info to build circuits\n",
            "Jul 23 11:14:04.000 [notice] Bootstrapped 90% (ap_handshake_done): Handshake finished with a relay to build circuits\n",
            "Jul 23 11:14:04.000 [notice] Bootstrapped 95% (circuit_create): Establishing a Tor circuit\n",
            "Jul 23 11:14:05.000 [notice] Bootstrapped 100% (done): Done\n"
          ]
        },
        {
          "output_type": "stream",
          "name": "stderr",
          "text": [
            "DEBUG:stem:GETCONF __owningcontrollerprocess (runtime: 0.3487)\n",
            "INFO:stem:Error while receiving a control message (SocketClosed): received exception \"read of closed file\"\n"
          ]
        },
        {
          "output_type": "stream",
          "name": "stdout",
          "text": [
            "Country: TH, google.com Accessible: True, apple.com Accessible: True\n"
          ]
        },
        {
          "output_type": "execute_result",
          "data": {
            "text/plain": [
              "   Country  Control Domain Accessible  Test Domain Accessible\n",
              "0       US                       True                    True\n",
              "1       CA                       True                    True\n",
              "2       DE                       True                    True\n",
              "3       FR                       True                    True\n",
              "4       GB                       True                    True\n",
              "5       AU                       True                    True\n",
              "6       JP                       True                    True\n",
              "7       KR                       True                    True\n",
              "8       RU                       True                    True\n",
              "9       BR                       True                    True\n",
              "10      ES                       True                    True\n",
              "11      IT                       True                    True\n",
              "12      CH                       True                    True\n",
              "13      SE                       True                    True\n",
              "14      FI                       True                    True\n",
              "15      NO                       True                    True\n",
              "16      DK                       True                    True\n",
              "17      BE                       True                    True\n",
              "18      PL                       True                    True\n",
              "19      CZ                       True                    True\n",
              "20      RO                       True                    True\n",
              "21      UA                       True                    True\n",
              "22      HU                       True                    True\n",
              "23      BG                       True                    True\n",
              "24      TR                       True                    True\n",
              "25      ZA                       True                    True\n",
              "26      SG                       True                    True\n",
              "27      HK                       True                    True\n",
              "28      MY                       True                    True\n",
              "29      ID                       True                    True\n",
              "30      VN                       True                    True\n",
              "31      TH                       True                    True"
            ],
            "text/html": [
              "\n",
              "  <div id=\"df-163ead77-d5dd-452e-8b7a-76ff08c3c452\" class=\"colab-df-container\">\n",
              "    <div>\n",
              "<style scoped>\n",
              "    .dataframe tbody tr th:only-of-type {\n",
              "        vertical-align: middle;\n",
              "    }\n",
              "\n",
              "    .dataframe tbody tr th {\n",
              "        vertical-align: top;\n",
              "    }\n",
              "\n",
              "    .dataframe thead th {\n",
              "        text-align: right;\n",
              "    }\n",
              "</style>\n",
              "<table border=\"1\" class=\"dataframe\">\n",
              "  <thead>\n",
              "    <tr style=\"text-align: right;\">\n",
              "      <th></th>\n",
              "      <th>Country</th>\n",
              "      <th>Control Domain Accessible</th>\n",
              "      <th>Test Domain Accessible</th>\n",
              "    </tr>\n",
              "  </thead>\n",
              "  <tbody>\n",
              "    <tr>\n",
              "      <th>0</th>\n",
              "      <td>US</td>\n",
              "      <td>True</td>\n",
              "      <td>True</td>\n",
              "    </tr>\n",
              "    <tr>\n",
              "      <th>1</th>\n",
              "      <td>CA</td>\n",
              "      <td>True</td>\n",
              "      <td>True</td>\n",
              "    </tr>\n",
              "    <tr>\n",
              "      <th>2</th>\n",
              "      <td>DE</td>\n",
              "      <td>True</td>\n",
              "      <td>True</td>\n",
              "    </tr>\n",
              "    <tr>\n",
              "      <th>3</th>\n",
              "      <td>FR</td>\n",
              "      <td>True</td>\n",
              "      <td>True</td>\n",
              "    </tr>\n",
              "    <tr>\n",
              "      <th>4</th>\n",
              "      <td>GB</td>\n",
              "      <td>True</td>\n",
              "      <td>True</td>\n",
              "    </tr>\n",
              "    <tr>\n",
              "      <th>5</th>\n",
              "      <td>AU</td>\n",
              "      <td>True</td>\n",
              "      <td>True</td>\n",
              "    </tr>\n",
              "    <tr>\n",
              "      <th>6</th>\n",
              "      <td>JP</td>\n",
              "      <td>True</td>\n",
              "      <td>True</td>\n",
              "    </tr>\n",
              "    <tr>\n",
              "      <th>7</th>\n",
              "      <td>KR</td>\n",
              "      <td>True</td>\n",
              "      <td>True</td>\n",
              "    </tr>\n",
              "    <tr>\n",
              "      <th>8</th>\n",
              "      <td>RU</td>\n",
              "      <td>True</td>\n",
              "      <td>True</td>\n",
              "    </tr>\n",
              "    <tr>\n",
              "      <th>9</th>\n",
              "      <td>BR</td>\n",
              "      <td>True</td>\n",
              "      <td>True</td>\n",
              "    </tr>\n",
              "    <tr>\n",
              "      <th>10</th>\n",
              "      <td>ES</td>\n",
              "      <td>True</td>\n",
              "      <td>True</td>\n",
              "    </tr>\n",
              "    <tr>\n",
              "      <th>11</th>\n",
              "      <td>IT</td>\n",
              "      <td>True</td>\n",
              "      <td>True</td>\n",
              "    </tr>\n",
              "    <tr>\n",
              "      <th>12</th>\n",
              "      <td>CH</td>\n",
              "      <td>True</td>\n",
              "      <td>True</td>\n",
              "    </tr>\n",
              "    <tr>\n",
              "      <th>13</th>\n",
              "      <td>SE</td>\n",
              "      <td>True</td>\n",
              "      <td>True</td>\n",
              "    </tr>\n",
              "    <tr>\n",
              "      <th>14</th>\n",
              "      <td>FI</td>\n",
              "      <td>True</td>\n",
              "      <td>True</td>\n",
              "    </tr>\n",
              "    <tr>\n",
              "      <th>15</th>\n",
              "      <td>NO</td>\n",
              "      <td>True</td>\n",
              "      <td>True</td>\n",
              "    </tr>\n",
              "    <tr>\n",
              "      <th>16</th>\n",
              "      <td>DK</td>\n",
              "      <td>True</td>\n",
              "      <td>True</td>\n",
              "    </tr>\n",
              "    <tr>\n",
              "      <th>17</th>\n",
              "      <td>BE</td>\n",
              "      <td>True</td>\n",
              "      <td>True</td>\n",
              "    </tr>\n",
              "    <tr>\n",
              "      <th>18</th>\n",
              "      <td>PL</td>\n",
              "      <td>True</td>\n",
              "      <td>True</td>\n",
              "    </tr>\n",
              "    <tr>\n",
              "      <th>19</th>\n",
              "      <td>CZ</td>\n",
              "      <td>True</td>\n",
              "      <td>True</td>\n",
              "    </tr>\n",
              "    <tr>\n",
              "      <th>20</th>\n",
              "      <td>RO</td>\n",
              "      <td>True</td>\n",
              "      <td>True</td>\n",
              "    </tr>\n",
              "    <tr>\n",
              "      <th>21</th>\n",
              "      <td>UA</td>\n",
              "      <td>True</td>\n",
              "      <td>True</td>\n",
              "    </tr>\n",
              "    <tr>\n",
              "      <th>22</th>\n",
              "      <td>HU</td>\n",
              "      <td>True</td>\n",
              "      <td>True</td>\n",
              "    </tr>\n",
              "    <tr>\n",
              "      <th>23</th>\n",
              "      <td>BG</td>\n",
              "      <td>True</td>\n",
              "      <td>True</td>\n",
              "    </tr>\n",
              "    <tr>\n",
              "      <th>24</th>\n",
              "      <td>TR</td>\n",
              "      <td>True</td>\n",
              "      <td>True</td>\n",
              "    </tr>\n",
              "    <tr>\n",
              "      <th>25</th>\n",
              "      <td>ZA</td>\n",
              "      <td>True</td>\n",
              "      <td>True</td>\n",
              "    </tr>\n",
              "    <tr>\n",
              "      <th>26</th>\n",
              "      <td>SG</td>\n",
              "      <td>True</td>\n",
              "      <td>True</td>\n",
              "    </tr>\n",
              "    <tr>\n",
              "      <th>27</th>\n",
              "      <td>HK</td>\n",
              "      <td>True</td>\n",
              "      <td>True</td>\n",
              "    </tr>\n",
              "    <tr>\n",
              "      <th>28</th>\n",
              "      <td>MY</td>\n",
              "      <td>True</td>\n",
              "      <td>True</td>\n",
              "    </tr>\n",
              "    <tr>\n",
              "      <th>29</th>\n",
              "      <td>ID</td>\n",
              "      <td>True</td>\n",
              "      <td>True</td>\n",
              "    </tr>\n",
              "    <tr>\n",
              "      <th>30</th>\n",
              "      <td>VN</td>\n",
              "      <td>True</td>\n",
              "      <td>True</td>\n",
              "    </tr>\n",
              "    <tr>\n",
              "      <th>31</th>\n",
              "      <td>TH</td>\n",
              "      <td>True</td>\n",
              "      <td>True</td>\n",
              "    </tr>\n",
              "  </tbody>\n",
              "</table>\n",
              "</div>\n",
              "    <div class=\"colab-df-buttons\">\n",
              "\n",
              "  <div class=\"colab-df-container\">\n",
              "    <button class=\"colab-df-convert\" onclick=\"convertToInteractive('df-163ead77-d5dd-452e-8b7a-76ff08c3c452')\"\n",
              "            title=\"Convert this dataframe to an interactive table.\"\n",
              "            style=\"display:none;\">\n",
              "\n",
              "  <svg xmlns=\"http://www.w3.org/2000/svg\" height=\"24px\" viewBox=\"0 -960 960 960\">\n",
              "    <path d=\"M120-120v-720h720v720H120Zm60-500h600v-160H180v160Zm220 220h160v-160H400v160Zm0 220h160v-160H400v160ZM180-400h160v-160H180v160Zm440 0h160v-160H620v160ZM180-180h160v-160H180v160Zm440 0h160v-160H620v160Z\"/>\n",
              "  </svg>\n",
              "    </button>\n",
              "\n",
              "  <style>\n",
              "    .colab-df-container {\n",
              "      display:flex;\n",
              "      gap: 12px;\n",
              "    }\n",
              "\n",
              "    .colab-df-convert {\n",
              "      background-color: #E8F0FE;\n",
              "      border: none;\n",
              "      border-radius: 50%;\n",
              "      cursor: pointer;\n",
              "      display: none;\n",
              "      fill: #1967D2;\n",
              "      height: 32px;\n",
              "      padding: 0 0 0 0;\n",
              "      width: 32px;\n",
              "    }\n",
              "\n",
              "    .colab-df-convert:hover {\n",
              "      background-color: #E2EBFA;\n",
              "      box-shadow: 0px 1px 2px rgba(60, 64, 67, 0.3), 0px 1px 3px 1px rgba(60, 64, 67, 0.15);\n",
              "      fill: #174EA6;\n",
              "    }\n",
              "\n",
              "    .colab-df-buttons div {\n",
              "      margin-bottom: 4px;\n",
              "    }\n",
              "\n",
              "    [theme=dark] .colab-df-convert {\n",
              "      background-color: #3B4455;\n",
              "      fill: #D2E3FC;\n",
              "    }\n",
              "\n",
              "    [theme=dark] .colab-df-convert:hover {\n",
              "      background-color: #434B5C;\n",
              "      box-shadow: 0px 1px 3px 1px rgba(0, 0, 0, 0.15);\n",
              "      filter: drop-shadow(0px 1px 2px rgba(0, 0, 0, 0.3));\n",
              "      fill: #FFFFFF;\n",
              "    }\n",
              "  </style>\n",
              "\n",
              "    <script>\n",
              "      const buttonEl =\n",
              "        document.querySelector('#df-163ead77-d5dd-452e-8b7a-76ff08c3c452 button.colab-df-convert');\n",
              "      buttonEl.style.display =\n",
              "        google.colab.kernel.accessAllowed ? 'block' : 'none';\n",
              "\n",
              "      async function convertToInteractive(key) {\n",
              "        const element = document.querySelector('#df-163ead77-d5dd-452e-8b7a-76ff08c3c452');\n",
              "        const dataTable =\n",
              "          await google.colab.kernel.invokeFunction('convertToInteractive',\n",
              "                                                    [key], {});\n",
              "        if (!dataTable) return;\n",
              "\n",
              "        const docLinkHtml = 'Like what you see? Visit the ' +\n",
              "          '<a target=\"_blank\" href=https://colab.research.google.com/notebooks/data_table.ipynb>data table notebook</a>'\n",
              "          + ' to learn more about interactive tables.';\n",
              "        element.innerHTML = '';\n",
              "        dataTable['output_type'] = 'display_data';\n",
              "        await google.colab.output.renderOutput(dataTable, element);\n",
              "        const docLink = document.createElement('div');\n",
              "        docLink.innerHTML = docLinkHtml;\n",
              "        element.appendChild(docLink);\n",
              "      }\n",
              "    </script>\n",
              "  </div>\n",
              "\n",
              "\n",
              "<div id=\"df-68df2622-5ffe-4a09-83d4-0078a979a177\">\n",
              "  <button class=\"colab-df-quickchart\" onclick=\"quickchart('df-68df2622-5ffe-4a09-83d4-0078a979a177')\"\n",
              "            title=\"Suggest charts\"\n",
              "            style=\"display:none;\">\n",
              "\n",
              "<svg xmlns=\"http://www.w3.org/2000/svg\" height=\"24px\"viewBox=\"0 0 24 24\"\n",
              "     width=\"24px\">\n",
              "    <g>\n",
              "        <path d=\"M19 3H5c-1.1 0-2 .9-2 2v14c0 1.1.9 2 2 2h14c1.1 0 2-.9 2-2V5c0-1.1-.9-2-2-2zM9 17H7v-7h2v7zm4 0h-2V7h2v10zm4 0h-2v-4h2v4z\"/>\n",
              "    </g>\n",
              "</svg>\n",
              "  </button>\n",
              "\n",
              "<style>\n",
              "  .colab-df-quickchart {\n",
              "      --bg-color: #E8F0FE;\n",
              "      --fill-color: #1967D2;\n",
              "      --hover-bg-color: #E2EBFA;\n",
              "      --hover-fill-color: #174EA6;\n",
              "      --disabled-fill-color: #AAA;\n",
              "      --disabled-bg-color: #DDD;\n",
              "  }\n",
              "\n",
              "  [theme=dark] .colab-df-quickchart {\n",
              "      --bg-color: #3B4455;\n",
              "      --fill-color: #D2E3FC;\n",
              "      --hover-bg-color: #434B5C;\n",
              "      --hover-fill-color: #FFFFFF;\n",
              "      --disabled-bg-color: #3B4455;\n",
              "      --disabled-fill-color: #666;\n",
              "  }\n",
              "\n",
              "  .colab-df-quickchart {\n",
              "    background-color: var(--bg-color);\n",
              "    border: none;\n",
              "    border-radius: 50%;\n",
              "    cursor: pointer;\n",
              "    display: none;\n",
              "    fill: var(--fill-color);\n",
              "    height: 32px;\n",
              "    padding: 0;\n",
              "    width: 32px;\n",
              "  }\n",
              "\n",
              "  .colab-df-quickchart:hover {\n",
              "    background-color: var(--hover-bg-color);\n",
              "    box-shadow: 0 1px 2px rgba(60, 64, 67, 0.3), 0 1px 3px 1px rgba(60, 64, 67, 0.15);\n",
              "    fill: var(--button-hover-fill-color);\n",
              "  }\n",
              "\n",
              "  .colab-df-quickchart-complete:disabled,\n",
              "  .colab-df-quickchart-complete:disabled:hover {\n",
              "    background-color: var(--disabled-bg-color);\n",
              "    fill: var(--disabled-fill-color);\n",
              "    box-shadow: none;\n",
              "  }\n",
              "\n",
              "  .colab-df-spinner {\n",
              "    border: 2px solid var(--fill-color);\n",
              "    border-color: transparent;\n",
              "    border-bottom-color: var(--fill-color);\n",
              "    animation:\n",
              "      spin 1s steps(1) infinite;\n",
              "  }\n",
              "\n",
              "  @keyframes spin {\n",
              "    0% {\n",
              "      border-color: transparent;\n",
              "      border-bottom-color: var(--fill-color);\n",
              "      border-left-color: var(--fill-color);\n",
              "    }\n",
              "    20% {\n",
              "      border-color: transparent;\n",
              "      border-left-color: var(--fill-color);\n",
              "      border-top-color: var(--fill-color);\n",
              "    }\n",
              "    30% {\n",
              "      border-color: transparent;\n",
              "      border-left-color: var(--fill-color);\n",
              "      border-top-color: var(--fill-color);\n",
              "      border-right-color: var(--fill-color);\n",
              "    }\n",
              "    40% {\n",
              "      border-color: transparent;\n",
              "      border-right-color: var(--fill-color);\n",
              "      border-top-color: var(--fill-color);\n",
              "    }\n",
              "    60% {\n",
              "      border-color: transparent;\n",
              "      border-right-color: var(--fill-color);\n",
              "    }\n",
              "    80% {\n",
              "      border-color: transparent;\n",
              "      border-right-color: var(--fill-color);\n",
              "      border-bottom-color: var(--fill-color);\n",
              "    }\n",
              "    90% {\n",
              "      border-color: transparent;\n",
              "      border-bottom-color: var(--fill-color);\n",
              "    }\n",
              "  }\n",
              "</style>\n",
              "\n",
              "  <script>\n",
              "    async function quickchart(key) {\n",
              "      const quickchartButtonEl =\n",
              "        document.querySelector('#' + key + ' button');\n",
              "      quickchartButtonEl.disabled = true;  // To prevent multiple clicks.\n",
              "      quickchartButtonEl.classList.add('colab-df-spinner');\n",
              "      try {\n",
              "        const charts = await google.colab.kernel.invokeFunction(\n",
              "            'suggestCharts', [key], {});\n",
              "      } catch (error) {\n",
              "        console.error('Error during call to suggestCharts:', error);\n",
              "      }\n",
              "      quickchartButtonEl.classList.remove('colab-df-spinner');\n",
              "      quickchartButtonEl.classList.add('colab-df-quickchart-complete');\n",
              "    }\n",
              "    (() => {\n",
              "      let quickchartButtonEl =\n",
              "        document.querySelector('#df-68df2622-5ffe-4a09-83d4-0078a979a177 button');\n",
              "      quickchartButtonEl.style.display =\n",
              "        google.colab.kernel.accessAllowed ? 'block' : 'none';\n",
              "    })();\n",
              "  </script>\n",
              "</div>\n",
              "\n",
              "  <div id=\"id_8483b7c9-379d-4416-8b73-62d5bdd033a0\">\n",
              "    <style>\n",
              "      .colab-df-generate {\n",
              "        background-color: #E8F0FE;\n",
              "        border: none;\n",
              "        border-radius: 50%;\n",
              "        cursor: pointer;\n",
              "        display: none;\n",
              "        fill: #1967D2;\n",
              "        height: 32px;\n",
              "        padding: 0 0 0 0;\n",
              "        width: 32px;\n",
              "      }\n",
              "\n",
              "      .colab-df-generate:hover {\n",
              "        background-color: #E2EBFA;\n",
              "        box-shadow: 0px 1px 2px rgba(60, 64, 67, 0.3), 0px 1px 3px 1px rgba(60, 64, 67, 0.15);\n",
              "        fill: #174EA6;\n",
              "      }\n",
              "\n",
              "      [theme=dark] .colab-df-generate {\n",
              "        background-color: #3B4455;\n",
              "        fill: #D2E3FC;\n",
              "      }\n",
              "\n",
              "      [theme=dark] .colab-df-generate:hover {\n",
              "        background-color: #434B5C;\n",
              "        box-shadow: 0px 1px 3px 1px rgba(0, 0, 0, 0.15);\n",
              "        filter: drop-shadow(0px 1px 2px rgba(0, 0, 0, 0.3));\n",
              "        fill: #FFFFFF;\n",
              "      }\n",
              "    </style>\n",
              "    <button class=\"colab-df-generate\" onclick=\"generateWithVariable('df')\"\n",
              "            title=\"Generate code using this dataframe.\"\n",
              "            style=\"display:none;\">\n",
              "\n",
              "  <svg xmlns=\"http://www.w3.org/2000/svg\" height=\"24px\"viewBox=\"0 0 24 24\"\n",
              "       width=\"24px\">\n",
              "    <path d=\"M7,19H8.4L18.45,9,17,7.55,7,17.6ZM5,21V16.75L18.45,3.32a2,2,0,0,1,2.83,0l1.4,1.43a1.91,1.91,0,0,1,.58,1.4,1.91,1.91,0,0,1-.58,1.4L9.25,21ZM18.45,9,17,7.55Zm-12,3A5.31,5.31,0,0,0,4.9,8.1,5.31,5.31,0,0,0,1,6.5,5.31,5.31,0,0,0,4.9,4.9,5.31,5.31,0,0,0,6.5,1,5.31,5.31,0,0,0,8.1,4.9,5.31,5.31,0,0,0,12,6.5,5.46,5.46,0,0,0,6.5,12Z\"/>\n",
              "  </svg>\n",
              "    </button>\n",
              "    <script>\n",
              "      (() => {\n",
              "      const buttonEl =\n",
              "        document.querySelector('#id_8483b7c9-379d-4416-8b73-62d5bdd033a0 button.colab-df-generate');\n",
              "      buttonEl.style.display =\n",
              "        google.colab.kernel.accessAllowed ? 'block' : 'none';\n",
              "\n",
              "      buttonEl.onclick = () => {\n",
              "        google.colab.notebook.generateWithVariable('df');\n",
              "      }\n",
              "      })();\n",
              "    </script>\n",
              "  </div>\n",
              "\n",
              "    </div>\n",
              "  </div>\n"
            ],
            "application/vnd.google.colaboratory.intrinsic+json": {
              "type": "dataframe",
              "variable_name": "df",
              "summary": "{\n  \"name\": \"df\",\n  \"rows\": 32,\n  \"fields\": [\n    {\n      \"column\": \"Country\",\n      \"properties\": {\n        \"dtype\": \"string\",\n        \"num_unique_values\": 32,\n        \"samples\": [\n          \"ID\",\n          \"NO\",\n          \"TR\"\n        ],\n        \"semantic_type\": \"\",\n        \"description\": \"\"\n      }\n    },\n    {\n      \"column\": \"Control Domain Accessible\",\n      \"properties\": {\n        \"dtype\": \"boolean\",\n        \"num_unique_values\": 1,\n        \"samples\": [\n          true\n        ],\n        \"semantic_type\": \"\",\n        \"description\": \"\"\n      }\n    },\n    {\n      \"column\": \"Test Domain Accessible\",\n      \"properties\": {\n        \"dtype\": \"boolean\",\n        \"num_unique_values\": 1,\n        \"samples\": [\n          true\n        ],\n        \"semantic_type\": \"\",\n        \"description\": \"\"\n      }\n    }\n  ]\n}"
            }
          },
          "metadata": {},
          "execution_count": 9
        }
      ]
    }
  ]
}